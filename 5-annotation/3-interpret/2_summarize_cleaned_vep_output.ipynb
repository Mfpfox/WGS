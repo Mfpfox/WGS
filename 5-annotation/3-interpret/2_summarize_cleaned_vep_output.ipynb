{
 "cells": [
  {
   "cell_type": "code",
   "execution_count": null,
   "id": "fddd480e-b905-4d67-8464-48fb18f9e1b3",
   "metadata": {},
   "outputs": [],
   "source": [
    "# %%\n",
    "\n",
    "from all_funx import *"
   ]
  },
  {
   "cell_type": "code",
   "execution_count": null,
   "id": "2c2f610c-8834-49d3-9bc0-5d35a3b3afc9",
   "metadata": {},
   "outputs": [
    {
     "name": "stderr",
     "output_type": "stream",
     "text": [
      "<ipython-input-2-5600122a29b1>:6: DtypeWarning: Columns (8,9,78) have mixed types. Specify dtype option on import or set low_memory=False.\n",
      "  indel12 = pd.read_csv('1_clean_vep_output-indel-cad12-v2.csv')\n",
      "<ipython-input-2-5600122a29b1>:7: DtypeWarning: Columns (8,9,78) have mixed types. Specify dtype option on import or set low_memory=False.\n",
      "  indel63 = pd.read_csv('1_clean_vep_output-indel-cad63-v2.csv')\n",
      "<ipython-input-2-5600122a29b1>:9: DtypeWarning: Columns (82) have mixed types. Specify dtype option on import or set low_memory=False.\n",
      "  snp12 = pd.read_csv('1_clean_vep_output-snp-cad12-v2.csv')\n",
      "<ipython-input-2-5600122a29b1>:10: DtypeWarning: Columns (82) have mixed types. Specify dtype option on import or set low_memory=False.\n",
      "  snp63 = pd.read_csv('1_clean_vep_output-snp-cad63-v2.csv')\n"
     ]
    }
   ],
   "source": [
    "# %%\n",
    "\n",
    "# import\n",
    "path  = \"/Users/mariapalafox/Desktop/BOLDcaution/WGS/5-annotation/3-summarize/2-summarize-v4/\"\n",
    "\n",
    "indel12 = pd.read_csv('1_clean_vep_output-indel-cad12-v2.csv')\n",
    "indel63 = pd.read_csv('1_clean_vep_output-indel-cad63-v2.csv')\n",
    "\n",
    "snp12 = pd.read_csv('1_clean_vep_output-snp-cad12-v2.csv')\n",
    "snp63 = pd.read_csv('1_clean_vep_output-snp-cad63-v2.csv')\n",
    "\n",
    "dfs = [indel12, indel63, snp12, snp63]\n",
    "dfnames = [\"indel12\", \"indel63\", \"snp12\", \"snp63\"]\n",
    "\n",
    "snps = [snp12, snp63]\n",
    "snpnames = [\"snp12\", \"snp63\"]\n",
    "\n",
    "# save_describe(indel12, path + 'indel12')\n",
    "# save_describe(snp12, path + 'snp12')\n",
    "# save_describe(indel63, path + 'indel63')\n",
    "# save_describe(snp63, path + 'snp63')"
   ]
  },
  {
   "cell_type": "code",
   "execution_count": null,
   "id": "8a98095e-dea6-42d7-8aab-a2a21d754f85",
   "metadata": {},
   "outputs": [],
   "source": [
    "# %%\n",
    "\n",
    "# QC total genes in dfs made with fillter given_ref_match == False\n",
    "indel12_false = indel12[indel12['GIVEN_REF_MATCH'] == False]\n",
    "snp12_false = snp12[snp12['GIVEN_REF_MATCH'] == False]\n",
    "indel63_false = indel63[indel63['GIVEN_REF_MATCH'] == False]\n",
    "snp63_false = snp63[snp63['GIVEN_REF_MATCH'] == False]\n",
    "dfs_false = [indel12_false, indel63_false, snp12_false, snp63_false]\n",
    "dfnames_false = [\"indel12_false\", \"indel63_false\", \"snp12_false\", \"snp63_false\"]"
   ]
  },
  {
   "cell_type": "code",
   "execution_count": null,
   "id": "6e75ee13-1bb4-4e7c-a986-db0d0c619796",
   "metadata": {},
   "outputs": [],
   "source": [
    "# %%\n",
    "\n",
    "def save_colValueCount(colname, dfs, dfnames, PATH):\n",
    "    #  funxtion to save value counts of a column in a multi-sheet excel\n",
    "    #  dfs: list of dataframes\n",
    "    #  dfnames: list of names of dataframes\n",
    "    #  colname: name of column to check value counts\n",
    "    #  PATH: path to save excel\n",
    "    output =  PATH + colname + '-checkValueCount' + '.xlsx'\n",
    "    with pd.ExcelWriter(output) as writer:\n",
    "        for x, df in enumerate(dfs):\n",
    "            dfname = dfnames[x]\n",
    "            print(dfname)\n",
    "            # function call\n",
    "            colval = checkColumnValue(df, colname)\n",
    "            # save excel sheet\n",
    "            colval.to_excel(writer, sheet_name = dfname)\n",
    "    print('done saving multi-sheet excel : ',  output)"
   ]
  },
  {
   "cell_type": "code",
   "execution_count": null,
   "id": "8b61e2da-d495-4e88-a8a7-5f3d1a14bc5c",
   "metadata": {},
   "outputs": [],
   "source": [
    "# %%\n",
    "\n",
    "def save_dtypes(dfs, dfnames, PATH):\n",
    "    #  dfs: list of dataframes\n",
    "    #  dfnames: list of names of dataframes\n",
    "    #  colname: name of column to check value counts\n",
    "    #  PATH: path to save excel\n",
    "    output =  PATH + 'dtypes' + '.xlsx'\n",
    "    with pd.ExcelWriter(output) as writer:\n",
    "        for x, df in enumerate(dfs):\n",
    "            dfname = dfnames[x]\n",
    "            print(dfname)\n",
    "            # function call\n",
    "            typedf = df.dtypes\n",
    "            # save excel sheet\n",
    "            typedf.to_excel(writer, sheet_name = dfname)\n",
    "    print('done saving multi-sheet excel : ',  output)"
   ]
  },
  {
   "cell_type": "code",
   "execution_count": null,
   "id": "5bf22337-53e3-4f47-acb9-d77817f1ee02",
   "metadata": {},
   "outputs": [],
   "source": [
    "# %%\n",
    "\n",
    "def save_dtypes(dfs, dfnames, PATH):\n",
    "    #  dfs: list of dataframes\n",
    "    #  dfnames: list of names of dataframes\n",
    "    #  colname: name of column to check value counts\n",
    "    #  PATH: path to save excel\n",
    "    output =  PATH + 'dtypes' + '.xlsx'\n",
    "    with pd.ExcelWriter(output) as writer:\n",
    "        for x, df in enumerate(dfs):\n",
    "            dfname = dfnames[x]\n",
    "            print(dfname)\n",
    "            # function call\n",
    "            typedf = df.dtypes\n",
    "            # save excel sheet\n",
    "            typedf.to_excel(writer, sheet_name = dfname)\n",
    "    print('done saving multi-sheet excel : ',  output)"
   ]
  },
  {
   "cell_type": "code",
   "execution_count": null,
   "id": "e59bbc1b-c962-45cb-b82e-c893061da6de",
   "metadata": {},
   "outputs": [
    {
     "ename": "OSError",
     "evalue": "Cannot save file into a non-existent directory: '/Users/mariapalafox/Desktop/BOLDcaution/WGS/5-annotation/3-summarize/2-summarize-v4'",
     "output_type": "error",
     "traceback": [
      "\u001b[0;31m---------------------------------------------------------------------------\u001b[0m",
      "\u001b[0;31mOSError\u001b[0m                                   Traceback (most recent call last)",
      "File \u001b[1;32m/Users/mariapalafox/Desktop/BOLDcaution/WGS/5-annotation/3-interpret/2_summarize_cleaned_vep_output.py:2\u001b[0m\n\u001b[1;32m      1\u001b[0m \u001b[39m# %%\u001b[39;00m\n\u001b[0;32m----> 2\u001b[0m save_dtypes(dfs, dfnames, path)\n",
      "File \u001b[1;32m/Users/mariapalafox/Desktop/BOLDcaution/WGS/5-annotation/3-interpret/2_summarize_cleaned_vep_output.py:8\u001b[0m\n\u001b[1;32m      2\u001b[0m \u001b[39mdef\u001b[39;00m \u001b[39msave_dtypes\u001b[39m(dfs, dfnames, PATH):\n\u001b[1;32m      3\u001b[0m     \u001b[39m#  dfs: list of dataframes\u001b[39;00m\n\u001b[1;32m      4\u001b[0m     \u001b[39m#  dfnames: list of names of dataframes\u001b[39;00m\n\u001b[1;32m      5\u001b[0m     \u001b[39m#  colname: name of column to check value counts\u001b[39;00m\n\u001b[1;32m      6\u001b[0m     \u001b[39m#  PATH: path to save excel\u001b[39;00m\n\u001b[1;32m      7\u001b[0m     output \u001b[39m=\u001b[39m  PATH \u001b[39m+\u001b[39m \u001b[39m'\u001b[39m\u001b[39mdtypes\u001b[39m\u001b[39m'\u001b[39m \u001b[39m+\u001b[39m \u001b[39m'\u001b[39m\u001b[39m.xlsx\u001b[39m\u001b[39m'\u001b[39m\n\u001b[0;32m----> 8\u001b[0m     \u001b[39mwith\u001b[39;00m pd\u001b[39m.\u001b[39;49mExcelWriter(output) \u001b[39mas\u001b[39;00m writer:\n\u001b[1;32m      9\u001b[0m         \u001b[39mfor\u001b[39;00m x, df \u001b[39min\u001b[39;00m \u001b[39menumerate\u001b[39m(dfs):\n\u001b[1;32m     10\u001b[0m             dfname \u001b[39m=\u001b[39m dfnames[x]\n",
      "File \u001b[0;32m~/anaconda3/envs/py39/lib/python3.9/site-packages/pandas/io/excel/_openpyxl.py:61\u001b[0m, in \u001b[0;36mOpenpyxlWriter.__init__\u001b[0;34m(self, path, engine, date_format, datetime_format, mode, storage_options, if_sheet_exists, engine_kwargs, **kwargs)\u001b[0m\n\u001b[1;32m     57\u001b[0m \u001b[39mfrom\u001b[39;00m \u001b[39mopenpyxl\u001b[39;00m\u001b[39m.\u001b[39;00m\u001b[39mworkbook\u001b[39;00m \u001b[39mimport\u001b[39;00m Workbook\n\u001b[1;32m     59\u001b[0m engine_kwargs \u001b[39m=\u001b[39m combine_kwargs(engine_kwargs, kwargs)\n\u001b[0;32m---> 61\u001b[0m \u001b[39msuper\u001b[39;49m()\u001b[39m.\u001b[39;49m\u001b[39m__init__\u001b[39;49m(\n\u001b[1;32m     62\u001b[0m     path,\n\u001b[1;32m     63\u001b[0m     mode\u001b[39m=\u001b[39;49mmode,\n\u001b[1;32m     64\u001b[0m     storage_options\u001b[39m=\u001b[39;49mstorage_options,\n\u001b[1;32m     65\u001b[0m     if_sheet_exists\u001b[39m=\u001b[39;49mif_sheet_exists,\n\u001b[1;32m     66\u001b[0m     engine_kwargs\u001b[39m=\u001b[39;49mengine_kwargs,\n\u001b[1;32m     67\u001b[0m )\n\u001b[1;32m     69\u001b[0m \u001b[39m# ExcelWriter replaced \"a\" by \"r+\" to allow us to first read the excel file from\u001b[39;00m\n\u001b[1;32m     70\u001b[0m \u001b[39m# the file and later write to it\u001b[39;00m\n\u001b[1;32m     71\u001b[0m \u001b[39mif\u001b[39;00m \u001b[39m\"\u001b[39m\u001b[39mr+\u001b[39m\u001b[39m\"\u001b[39m \u001b[39min\u001b[39;00m \u001b[39mself\u001b[39m\u001b[39m.\u001b[39m_mode:  \u001b[39m# Load from existing workbook\u001b[39;00m\n",
      "File \u001b[0;32m~/anaconda3/envs/py39/lib/python3.9/site-packages/pandas/io/excel/_base.py:1246\u001b[0m, in \u001b[0;36mExcelWriter.__init__\u001b[0;34m(self, path, engine, date_format, datetime_format, mode, storage_options, if_sheet_exists, engine_kwargs)\u001b[0m\n\u001b[1;32m   1242\u001b[0m \u001b[39mself\u001b[39m\u001b[39m.\u001b[39m_handles \u001b[39m=\u001b[39m IOHandles(\n\u001b[1;32m   1243\u001b[0m     cast(IO[\u001b[39mbytes\u001b[39m], path), compression\u001b[39m=\u001b[39m{\u001b[39m\"\u001b[39m\u001b[39mcompression\u001b[39m\u001b[39m\"\u001b[39m: \u001b[39mNone\u001b[39;00m}\n\u001b[1;32m   1244\u001b[0m )\n\u001b[1;32m   1245\u001b[0m \u001b[39mif\u001b[39;00m \u001b[39mnot\u001b[39;00m \u001b[39misinstance\u001b[39m(path, ExcelWriter):\n\u001b[0;32m-> 1246\u001b[0m     \u001b[39mself\u001b[39m\u001b[39m.\u001b[39m_handles \u001b[39m=\u001b[39m get_handle(\n\u001b[1;32m   1247\u001b[0m         path, mode, storage_options\u001b[39m=\u001b[39;49mstorage_options, is_text\u001b[39m=\u001b[39;49m\u001b[39mFalse\u001b[39;49;00m\n\u001b[1;32m   1248\u001b[0m     )\n\u001b[1;32m   1249\u001b[0m \u001b[39mself\u001b[39m\u001b[39m.\u001b[39m_cur_sheet \u001b[39m=\u001b[39m \u001b[39mNone\u001b[39;00m\n\u001b[1;32m   1251\u001b[0m \u001b[39mif\u001b[39;00m date_format \u001b[39mis\u001b[39;00m \u001b[39mNone\u001b[39;00m:\n",
      "File \u001b[0;32m~/anaconda3/envs/py39/lib/python3.9/site-packages/pandas/io/common.py:749\u001b[0m, in \u001b[0;36mget_handle\u001b[0;34m(path_or_buf, mode, encoding, compression, memory_map, is_text, errors, storage_options)\u001b[0m\n\u001b[1;32m    747\u001b[0m \u001b[39m# Only for write methods\u001b[39;00m\n\u001b[1;32m    748\u001b[0m \u001b[39mif\u001b[39;00m \u001b[39m\"\u001b[39m\u001b[39mr\u001b[39m\u001b[39m\"\u001b[39m \u001b[39mnot\u001b[39;00m \u001b[39min\u001b[39;00m mode \u001b[39mand\u001b[39;00m is_path:\n\u001b[0;32m--> 749\u001b[0m     check_parent_directory(\u001b[39mstr\u001b[39;49m(handle))\n\u001b[1;32m    751\u001b[0m \u001b[39mif\u001b[39;00m compression:\n\u001b[1;32m    752\u001b[0m     \u001b[39mif\u001b[39;00m compression \u001b[39m!=\u001b[39m \u001b[39m\"\u001b[39m\u001b[39mzstd\u001b[39m\u001b[39m\"\u001b[39m:\n\u001b[1;32m    753\u001b[0m         \u001b[39m# compression libraries do not like an explicit text-mode\u001b[39;00m\n",
      "File \u001b[0;32m~/anaconda3/envs/py39/lib/python3.9/site-packages/pandas/io/common.py:616\u001b[0m, in \u001b[0;36mcheck_parent_directory\u001b[0;34m(path)\u001b[0m\n\u001b[1;32m    614\u001b[0m parent \u001b[39m=\u001b[39m Path(path)\u001b[39m.\u001b[39mparent\n\u001b[1;32m    615\u001b[0m \u001b[39mif\u001b[39;00m \u001b[39mnot\u001b[39;00m parent\u001b[39m.\u001b[39mis_dir():\n\u001b[0;32m--> 616\u001b[0m     \u001b[39mraise\u001b[39;00m \u001b[39mOSError\u001b[39;00m(\u001b[39mrf\u001b[39m\u001b[39m\"\u001b[39m\u001b[39mCannot save file into a non-existent directory: \u001b[39m\u001b[39m'\u001b[39m\u001b[39m{\u001b[39;00mparent\u001b[39m}\u001b[39;00m\u001b[39m'\u001b[39m\u001b[39m\"\u001b[39m)\n",
      "\u001b[0;31mOSError\u001b[0m: Cannot save file into a non-existent directory: '/Users/mariapalafox/Desktop/BOLDcaution/WGS/5-annotation/3-summarize/2-summarize-v4'"
     ]
    }
   ],
   "source": [
    "# %%\n",
    "\n",
    "save_dtypes(dfs, dfnames, path)"
   ]
  },
  {
   "cell_type": "code",
   "execution_count": null,
   "id": "fa16cbcb-e735-4e14-8096-f5ed4e1152ae",
   "metadata": {},
   "outputs": [],
   "source": [
    "# %%\n",
    "\n",
    "# output file path\n",
    "path  = \"/Users/mariapalafox/Desktop/BOLDcaution/WGS/5-annotation/3-interpret/2-summarize-v4/\""
   ]
  },
  {
   "cell_type": "code",
   "execution_count": null,
   "id": "42ab9b8e-a98c-4d09-8f5a-537e81639e30",
   "metadata": {},
   "outputs": [
    {
     "name": "stdout",
     "output_type": "stream",
     "text": [
      "indel12\n",
      "indel63\n",
      "snp12\n",
      "snp63\n",
      "done saving multi-sheet excel :  /Users/mariapalafox/Desktop/BOLDcaution/WGS/5-annotation/3-interpret/2-summarize-v4/dtypes.xlsx\n"
     ]
    }
   ],
   "source": [
    "# %%\n",
    "\n",
    "save_dtypes(dfs, dfnames, path)"
   ]
  },
  {
   "cell_type": "code",
   "execution_count": null,
   "id": "c7729dd9-c19d-46c0-be61-0057cac2b09d",
   "metadata": {},
   "outputs": [],
   "source": [
    "# %%\n",
    "\n",
    "def save_describeNumeric(dfs, dfnames, PATH):\n",
    "    #  dfs: list of dataframes\n",
    "    #  dfnames: list of names of dataframes\n",
    "    #  colname: name of column to check value counts\n",
    "    #  PATH: path to save excel\n",
    "    output =  PATH + 'describeNumeric' + '.xlsx'\n",
    "    with pd.ExcelWriter(output) as writer:\n",
    "        for x, df in enumerate(dfs):\n",
    "            dfname = dfnames[x]\n",
    "            print(dfname)\n",
    "            # function call\n",
    "            desdf = i.describe(include='number')\n",
    "            describee = pd.DataFrame(desdf).T\n",
    "            # save excel sheet\n",
    "            describee.to_excel(writer, sheet_name = dfname)\n",
    "    print('done saving multi-sheet excel : ',  output)"
   ]
  },
  {
   "cell_type": "code",
   "execution_count": null,
   "id": "6527fd0a-b762-48cc-95b0-1e46a5fac642",
   "metadata": {},
   "outputs": [],
   "source": [
    "# %%\n",
    "\n",
    "def save_describeNumeric(dfs, dfnames, PATH):\n",
    "    #  dfs: list of dataframes\n",
    "    #  dfnames: list of names of dataframes\n",
    "    #  colname: name of column to check value counts\n",
    "    #  PATH: path to save excel\n",
    "    output =  PATH + 'describeNumeric' + '.xlsx'\n",
    "    with pd.ExcelWriter(output) as writer:\n",
    "        for x, df in enumerate(dfs):\n",
    "            dfname = dfnames[x]\n",
    "            print(dfname)\n",
    "            # function call\n",
    "            desdf = i.describe(include='number')\n",
    "            describee = pd.DataFrame(desdf).T\n",
    "            # save excel sheet\n",
    "            describee.to_excel(writer, sheet_name = dfname)\n",
    "    print('done saving multi-sheet excel : ',  output)"
   ]
  },
  {
   "cell_type": "code",
   "execution_count": null,
   "id": "8e79dc75-5243-4a20-af15-8f7e2553701f",
   "metadata": {},
   "outputs": [
    {
     "name": "stdout",
     "output_type": "stream",
     "text": [
      "indel12\n"
     ]
    },
    {
     "ename": "IndexError",
     "evalue": "At least one sheet must be visible",
     "output_type": "error",
     "traceback": [
      "\u001b[0;31m---------------------------------------------------------------------------\u001b[0m",
      "\u001b[0;31mNameError\u001b[0m                                 Traceback (most recent call last)",
      "File \u001b[1;32m/Users/mariapalafox/Desktop/BOLDcaution/WGS/5-annotation/3-interpret/2_summarize_cleaned_vep_output.py:13\u001b[0m\n\u001b[1;32m     12\u001b[0m \u001b[39m# function call\u001b[39;00m\n\u001b[0;32m---> 13\u001b[0m desdf \u001b[39m=\u001b[39m i\u001b[39m.\u001b[39mdescribe(include\u001b[39m=\u001b[39m\u001b[39m'\u001b[39m\u001b[39mnumber\u001b[39m\u001b[39m'\u001b[39m)\n\u001b[1;32m     14\u001b[0m describee \u001b[39m=\u001b[39m pd\u001b[39m.\u001b[39mDataFrame(desdf)\u001b[39m.\u001b[39mT\n",
      "\u001b[0;31mNameError\u001b[0m: name 'i' is not defined",
      "\nDuring handling of the above exception, another exception occurred:\n",
      "\u001b[0;31mIndexError\u001b[0m                                Traceback (most recent call last)",
      "File \u001b[1;32m/Users/mariapalafox/Desktop/BOLDcaution/WGS/5-annotation/3-interpret/2_summarize_cleaned_vep_output.py:3\u001b[0m\n\u001b[1;32m      1\u001b[0m \u001b[39m# %%\u001b[39;00m\n\u001b[1;32m      2\u001b[0m \u001b[39m# describeNumberic\u001b[39;00m\n\u001b[0;32m----> 3\u001b[0m save_describeNumeric(dfs, dfnames, path)\n",
      "File \u001b[1;32m/Users/mariapalafox/Desktop/BOLDcaution/WGS/5-annotation/3-interpret/2_summarize_cleaned_vep_output.py:16\u001b[0m\n\u001b[1;32m     14\u001b[0m         describee \u001b[39m=\u001b[39m pd\u001b[39m.\u001b[39mDataFrame(desdf)\u001b[39m.\u001b[39mT\n\u001b[1;32m     15\u001b[0m         \u001b[39m# save excel sheet\u001b[39;00m\n\u001b[0;32m---> 16\u001b[0m         describee\u001b[39m.\u001b[39mto_excel(writer, sheet_name \u001b[39m=\u001b[39m dfname)\n\u001b[1;32m     17\u001b[0m \u001b[39mprint\u001b[39m(\u001b[39m'\u001b[39m\u001b[39mdone saving multi-sheet excel : \u001b[39m\u001b[39m'\u001b[39m,  output)\n",
      "File \u001b[0;32m~/anaconda3/envs/py39/lib/python3.9/site-packages/pandas/io/excel/_base.py:1353\u001b[0m, in \u001b[0;36mExcelWriter.__exit__\u001b[0;34m(self, exc_type, exc_value, traceback)\u001b[0m\n\u001b[1;32m   1347\u001b[0m \u001b[39mdef\u001b[39;00m \u001b[39m__exit__\u001b[39m(\n\u001b[1;32m   1348\u001b[0m     \u001b[39mself\u001b[39m,\n\u001b[1;32m   1349\u001b[0m     exc_type: \u001b[39mtype\u001b[39m[\u001b[39mBaseException\u001b[39;00m] \u001b[39m|\u001b[39m \u001b[39mNone\u001b[39;00m,\n\u001b[1;32m   1350\u001b[0m     exc_value: \u001b[39mBaseException\u001b[39;00m \u001b[39m|\u001b[39m \u001b[39mNone\u001b[39;00m,\n\u001b[1;32m   1351\u001b[0m     traceback: TracebackType \u001b[39m|\u001b[39m \u001b[39mNone\u001b[39;00m,\n\u001b[1;32m   1352\u001b[0m ) \u001b[39m-\u001b[39m\u001b[39m>\u001b[39m \u001b[39mNone\u001b[39;00m:\n\u001b[0;32m-> 1353\u001b[0m     \u001b[39mself\u001b[39;49m\u001b[39m.\u001b[39;49mclose()\n",
      "File \u001b[0;32m~/anaconda3/envs/py39/lib/python3.9/site-packages/pandas/io/excel/_base.py:1357\u001b[0m, in \u001b[0;36mExcelWriter.close\u001b[0;34m(self)\u001b[0m\n\u001b[1;32m   1355\u001b[0m \u001b[39mdef\u001b[39;00m \u001b[39mclose\u001b[39m(\u001b[39mself\u001b[39m) \u001b[39m-\u001b[39m\u001b[39m>\u001b[39m \u001b[39mNone\u001b[39;00m:\n\u001b[1;32m   1356\u001b[0m \u001b[39m    \u001b[39m\u001b[39m\"\"\"synonym for save, to make it more file-like\"\"\"\u001b[39;00m\n\u001b[0;32m-> 1357\u001b[0m     \u001b[39mself\u001b[39;49m\u001b[39m.\u001b[39;49m_save()\n\u001b[1;32m   1358\u001b[0m     \u001b[39mself\u001b[39m\u001b[39m.\u001b[39m_handles\u001b[39m.\u001b[39mclose()\n",
      "File \u001b[0;32m~/anaconda3/envs/py39/lib/python3.9/site-packages/pandas/io/excel/_openpyxl.py:110\u001b[0m, in \u001b[0;36mOpenpyxlWriter._save\u001b[0;34m(self)\u001b[0m\n\u001b[1;32m    106\u001b[0m \u001b[39mdef\u001b[39;00m \u001b[39m_save\u001b[39m(\u001b[39mself\u001b[39m) \u001b[39m-\u001b[39m\u001b[39m>\u001b[39m \u001b[39mNone\u001b[39;00m:\n\u001b[1;32m    107\u001b[0m \u001b[39m    \u001b[39m\u001b[39m\"\"\"\u001b[39;00m\n\u001b[1;32m    108\u001b[0m \u001b[39m    Save workbook to disk.\u001b[39;00m\n\u001b[1;32m    109\u001b[0m \u001b[39m    \"\"\"\u001b[39;00m\n\u001b[0;32m--> 110\u001b[0m     \u001b[39mself\u001b[39;49m\u001b[39m.\u001b[39;49mbook\u001b[39m.\u001b[39;49msave(\u001b[39mself\u001b[39;49m\u001b[39m.\u001b[39;49m_handles\u001b[39m.\u001b[39;49mhandle)\n\u001b[1;32m    111\u001b[0m     \u001b[39mif\u001b[39;00m \u001b[39m\"\u001b[39m\u001b[39mr+\u001b[39m\u001b[39m\"\u001b[39m \u001b[39min\u001b[39;00m \u001b[39mself\u001b[39m\u001b[39m.\u001b[39m_mode \u001b[39mand\u001b[39;00m \u001b[39mnot\u001b[39;00m \u001b[39misinstance\u001b[39m(\u001b[39mself\u001b[39m\u001b[39m.\u001b[39m_handles\u001b[39m.\u001b[39mhandle, mmap\u001b[39m.\u001b[39mmmap):\n\u001b[1;32m    112\u001b[0m         \u001b[39m# truncate file to the written content\u001b[39;00m\n\u001b[1;32m    113\u001b[0m         \u001b[39mself\u001b[39m\u001b[39m.\u001b[39m_handles\u001b[39m.\u001b[39mhandle\u001b[39m.\u001b[39mtruncate()\n",
      "File \u001b[0;32m~/anaconda3/envs/py39/lib/python3.9/site-packages/openpyxl/workbook/workbook.py:386\u001b[0m, in \u001b[0;36mWorkbook.save\u001b[0;34m(self, filename)\u001b[0m\n\u001b[1;32m    384\u001b[0m \u001b[39mif\u001b[39;00m \u001b[39mself\u001b[39m\u001b[39m.\u001b[39mwrite_only \u001b[39mand\u001b[39;00m \u001b[39mnot\u001b[39;00m \u001b[39mself\u001b[39m\u001b[39m.\u001b[39mworksheets:\n\u001b[1;32m    385\u001b[0m     \u001b[39mself\u001b[39m\u001b[39m.\u001b[39mcreate_sheet()\n\u001b[0;32m--> 386\u001b[0m save_workbook(\u001b[39mself\u001b[39;49m, filename)\n",
      "File \u001b[0;32m~/anaconda3/envs/py39/lib/python3.9/site-packages/openpyxl/writer/excel.py:294\u001b[0m, in \u001b[0;36msave_workbook\u001b[0;34m(workbook, filename)\u001b[0m\n\u001b[1;32m    292\u001b[0m workbook\u001b[39m.\u001b[39mproperties\u001b[39m.\u001b[39mmodified \u001b[39m=\u001b[39m datetime\u001b[39m.\u001b[39mdatetime\u001b[39m.\u001b[39mutcnow()\n\u001b[1;32m    293\u001b[0m writer \u001b[39m=\u001b[39m ExcelWriter(workbook, archive)\n\u001b[0;32m--> 294\u001b[0m writer\u001b[39m.\u001b[39;49msave()\n\u001b[1;32m    295\u001b[0m \u001b[39mreturn\u001b[39;00m \u001b[39mTrue\u001b[39;00m\n",
      "File \u001b[0;32m~/anaconda3/envs/py39/lib/python3.9/site-packages/openpyxl/writer/excel.py:275\u001b[0m, in \u001b[0;36mExcelWriter.save\u001b[0;34m(self)\u001b[0m\n\u001b[1;32m    273\u001b[0m \u001b[39mdef\u001b[39;00m \u001b[39msave\u001b[39m(\u001b[39mself\u001b[39m):\n\u001b[1;32m    274\u001b[0m \u001b[39m    \u001b[39m\u001b[39m\"\"\"Write data into the archive.\"\"\"\u001b[39;00m\n\u001b[0;32m--> 275\u001b[0m     \u001b[39mself\u001b[39;49m\u001b[39m.\u001b[39;49mwrite_data()\n\u001b[1;32m    276\u001b[0m     \u001b[39mself\u001b[39m\u001b[39m.\u001b[39m_archive\u001b[39m.\u001b[39mclose()\n",
      "File \u001b[0;32m~/anaconda3/envs/py39/lib/python3.9/site-packages/openpyxl/writer/excel.py:89\u001b[0m, in \u001b[0;36mExcelWriter.write_data\u001b[0;34m(self)\u001b[0m\n\u001b[1;32m     87\u001b[0m writer \u001b[39m=\u001b[39m WorkbookWriter(\u001b[39mself\u001b[39m\u001b[39m.\u001b[39mworkbook)\n\u001b[1;32m     88\u001b[0m archive\u001b[39m.\u001b[39mwritestr(ARC_ROOT_RELS, writer\u001b[39m.\u001b[39mwrite_root_rels())\n\u001b[0;32m---> 89\u001b[0m archive\u001b[39m.\u001b[39mwritestr(ARC_WORKBOOK, writer\u001b[39m.\u001b[39;49mwrite())\n\u001b[1;32m     90\u001b[0m archive\u001b[39m.\u001b[39mwritestr(ARC_WORKBOOK_RELS, writer\u001b[39m.\u001b[39mwrite_rels())\n\u001b[1;32m     92\u001b[0m \u001b[39mself\u001b[39m\u001b[39m.\u001b[39m_merge_vba()\n",
      "File \u001b[0;32m~/anaconda3/envs/py39/lib/python3.9/site-packages/openpyxl/workbook/_writer.py:150\u001b[0m, in \u001b[0;36mWorkbookWriter.write\u001b[0;34m(self)\u001b[0m\n\u001b[1;32m    148\u001b[0m \u001b[39mself\u001b[39m\u001b[39m.\u001b[39mwrite_names()\n\u001b[1;32m    149\u001b[0m \u001b[39mself\u001b[39m\u001b[39m.\u001b[39mwrite_pivots()\n\u001b[0;32m--> 150\u001b[0m \u001b[39mself\u001b[39;49m\u001b[39m.\u001b[39;49mwrite_views()\n\u001b[1;32m    151\u001b[0m \u001b[39mself\u001b[39m\u001b[39m.\u001b[39mwrite_refs()\n\u001b[1;32m    153\u001b[0m \u001b[39mreturn\u001b[39;00m tostring(\u001b[39mself\u001b[39m\u001b[39m.\u001b[39mpackage\u001b[39m.\u001b[39mto_tree())\n",
      "File \u001b[0;32m~/anaconda3/envs/py39/lib/python3.9/site-packages/openpyxl/workbook/_writer.py:137\u001b[0m, in \u001b[0;36mWorkbookWriter.write_views\u001b[0;34m(self)\u001b[0m\n\u001b[1;32m    136\u001b[0m \u001b[39mdef\u001b[39;00m \u001b[39mwrite_views\u001b[39m(\u001b[39mself\u001b[39m):\n\u001b[0;32m--> 137\u001b[0m     active \u001b[39m=\u001b[39m get_active_sheet(\u001b[39mself\u001b[39;49m\u001b[39m.\u001b[39;49mwb)\n\u001b[1;32m    138\u001b[0m     \u001b[39mif\u001b[39;00m \u001b[39mself\u001b[39m\u001b[39m.\u001b[39mwb\u001b[39m.\u001b[39mviews:\n\u001b[1;32m    139\u001b[0m         \u001b[39mself\u001b[39m\u001b[39m.\u001b[39mwb\u001b[39m.\u001b[39mviews[\u001b[39m0\u001b[39m]\u001b[39m.\u001b[39mactiveTab \u001b[39m=\u001b[39m active\n",
      "File \u001b[0;32m~/anaconda3/envs/py39/lib/python3.9/site-packages/openpyxl/workbook/_writer.py:35\u001b[0m, in \u001b[0;36mget_active_sheet\u001b[0;34m(wb)\u001b[0m\n\u001b[1;32m     33\u001b[0m visible_sheets \u001b[39m=\u001b[39m [idx \u001b[39mfor\u001b[39;00m idx, sheet \u001b[39min\u001b[39;00m \u001b[39menumerate\u001b[39m(wb\u001b[39m.\u001b[39m_sheets) \u001b[39mif\u001b[39;00m sheet\u001b[39m.\u001b[39msheet_state \u001b[39m==\u001b[39m \u001b[39m\"\u001b[39m\u001b[39mvisible\u001b[39m\u001b[39m\"\u001b[39m]\n\u001b[1;32m     34\u001b[0m \u001b[39mif\u001b[39;00m \u001b[39mnot\u001b[39;00m visible_sheets:\n\u001b[0;32m---> 35\u001b[0m     \u001b[39mraise\u001b[39;00m \u001b[39mIndexError\u001b[39;00m(\u001b[39m\"\u001b[39m\u001b[39mAt least one sheet must be visible\u001b[39m\u001b[39m\"\u001b[39m)\n\u001b[1;32m     37\u001b[0m idx \u001b[39m=\u001b[39m wb\u001b[39m.\u001b[39m_active_sheet_index\n\u001b[1;32m     38\u001b[0m sheet \u001b[39m=\u001b[39m wb\u001b[39m.\u001b[39mactive\n",
      "\u001b[0;31mIndexError\u001b[0m: At least one sheet must be visible"
     ]
    }
   ],
   "source": [
    "# %%\n",
    "\n",
    "# describeNumberic\n",
    "save_describeNumeric(dfs, dfnames, path)"
   ]
  },
  {
   "cell_type": "code",
   "execution_count": null,
   "id": "bb4aecca-2456-4ecf-94bc-16df4c545f20",
   "metadata": {},
   "outputs": [],
   "source": [
    "# %%\n",
    "\n",
    "def save_describeNumeric(dfs, dfnames, PATH):\n",
    "    #  dfs: list of dataframes\n",
    "    #  dfnames: list of names of dataframes\n",
    "    #  colname: name of column to check value counts\n",
    "    #  PATH: path to save excel\n",
    "    output =  PATH + 'describeNumeric' + '.xlsx'\n",
    "    with pd.ExcelWriter(output) as writer:\n",
    "        for x, df in enumerate(dfs):\n",
    "            dfname = dfnames[x]\n",
    "            print(dfname)\n",
    "            # function call\n",
    "            desdf = df.describe(include='number')\n",
    "            describee = pd.DataFrame(desdf).T\n",
    "            # save excel sheet\n",
    "            describee.to_excel(writer, sheet_name = dfname)\n",
    "    print('done saving multi-sheet excel : ',  output)"
   ]
  },
  {
   "cell_type": "code",
   "execution_count": null,
   "id": "fb433b3e-ba72-4566-8ef6-553f49504f2f",
   "metadata": {},
   "outputs": [
    {
     "name": "stdout",
     "output_type": "stream",
     "text": [
      "indel12\n",
      "indel63\n",
      "snp12\n",
      "snp63\n",
      "done saving multi-sheet excel :  /Users/mariapalafox/Desktop/BOLDcaution/WGS/5-annotation/3-interpret/2-summarize-v4/describeNumeric.xlsx\n"
     ]
    }
   ],
   "source": [
    "# %%\n",
    "\n",
    "# describeNumberic\n",
    "save_describeNumeric(dfs, dfnames, path)"
   ]
  },
  {
   "cell_type": "code",
   "execution_count": null,
   "id": "f1e56e01-a915-408b-b20f-e80e554d2c9a",
   "metadata": {},
   "outputs": [],
   "source": [
    "# %%\n",
    "\n",
    "def save_describeNull(dfs, dfnames, PATH):\n",
    "    #  dfs: list of dataframes\n",
    "    #  dfnames: list of names of dataframes\n",
    "    #  colname: name of column to check value counts\n",
    "    #  PATH: path to save excel\n",
    "    output =  PATH + 'describeNull' + '.xlsx'\n",
    "    with pd.ExcelWriter(output) as writer:\n",
    "        nan_column_from_1 =['cDNA_position', 'CDS_position', 'Protein_position', 'DISTANCE', 'EXONnumber', 'INTRONnumber', 'gnomADg_AF', 'gnomADg_AFR_AF', 'gnomADg_AMI_AF', 'gnomADg_AMR_AF', 'gnomADg_ASJ_AF', 'gnomADg_EAS_AF', 'gnomADg_FIN_AF', 'gnomADg_MID_AF', 'gnomADg_NFE_AF', 'gnomADg_OTH_AF', 'gnomADg_SAS_AF','MAX_AF', 'CLIN_SIG']\n",
    "        for x, df in enumerate(dfs):\n",
    "            dfname = dfnames[x]\n",
    "            print(dfname)\n",
    "            # function call\n",
    "            df_with_nan = df[nan_column_from_1].copy()\n",
    "            sumdf = df_with_nan.isna().sum()\n",
    "            # save excel sheet\n",
    "            sumdf.to_excel(writer, sheet_name = dfname)\n",
    "    print('done saving multi-sheet excel : ',  output)"
   ]
  },
  {
   "cell_type": "code",
   "execution_count": null,
   "id": "5edf667c-6245-47d4-bc9a-d410a669f07b",
   "metadata": {},
   "outputs": [
    {
     "name": "stdout",
     "output_type": "stream",
     "text": [
      "indel12\n",
      "indel63\n",
      "snp12\n",
      "snp63\n",
      "done saving multi-sheet excel :  /Users/mariapalafox/Desktop/BOLDcaution/WGS/5-annotation/3-interpret/2-summarize-v4/describeNull.xlsx\n"
     ]
    }
   ],
   "source": [
    "# %%\n",
    "\n",
    "# describeNull\n",
    "save_describeNull(dfs, dfnames, path)"
   ]
  },
  {
   "cell_type": "code",
   "execution_count": null,
   "id": "e6455349-4a8e-4700-9935-c9ec0645b7ad",
   "metadata": {},
   "outputs": [],
   "source": [
    "# %%\n",
    "\n",
    "def save_uniqueCount(col, dfs, dfnames, PATH):\n",
    "    #  dfs: list of dataframes\n",
    "    #  dfnames: list of names of dataframes\n",
    "    #  colname: name of column to check value counts\n",
    "    #  PATH: path to save excel\n",
    "    output =  PATH + 'uniqueCount-' + col + '.xlsx'\n",
    "    with pd.ExcelWriter(output) as writer:\n",
    "        for x, df in enumerate(dfs):\n",
    "            dfname = dfnames[x]\n",
    "            print(dfname)\n",
    "            # function call\n",
    "            allCol =  []\n",
    "            uniqCol = []\n",
    "            lengthAll = len(df[col])\n",
    "            lengthUniq = len(df[col].unique())\n",
    "            colname1 = 'total_' + col\n",
    "            colname2 = 'unique_' + col\n",
    "            allCol.append(colname1)\n",
    "            uniqCol.append(colname2)\n",
    "            allCol.append(lengthAll)\n",
    "            uniqCol.append(lengthUniq)\n",
    "            uniqueDF = pd.DataFrame([allCol, uniqCol])\n",
    "            # save excel sheet\n",
    "            uniqueDF.to_excel(writer, sheet_name=dfname)\n",
    "    print('done saving multi-sheet excel : ',  output)"
   ]
  },
  {
   "cell_type": "code",
   "execution_count": null,
   "id": "a929355b-4b56-49b9-8e76-bfd5e144f1dd",
   "metadata": {},
   "outputs": [
    {
     "name": "stdout",
     "output_type": "stream",
     "text": [
      "indel12\n"
     ]
    },
    {
     "name": "stderr",
     "output_type": "stream",
     "text": [
      "Exception ignored in: <function ZipFile.__del__ at 0x7fea182a9dc0>\n",
      "Traceback (most recent call last):\n",
      "  File \"/Users/mariapalafox/anaconda3/envs/py39/lib/python3.9/zipfile.py\", line 1828, in __del__\n",
      "    self.close()\n",
      "  File \"/Users/mariapalafox/anaconda3/envs/py39/lib/python3.9/zipfile.py\", line 1845, in close\n",
      "    self.fp.seek(self.start_dir)\n",
      "ValueError: seek of closed file\n"
     ]
    },
    {
     "ename": "IndexError",
     "evalue": "At least one sheet must be visible",
     "output_type": "error",
     "traceback": [
      "\u001b[0;31m---------------------------------------------------------------------------\u001b[0m",
      "\u001b[0;31mKeyError\u001b[0m                                  Traceback (most recent call last)",
      "File \u001b[0;32m~/anaconda3/envs/py39/lib/python3.9/site-packages/pandas/core/indexes/base.py:3805\u001b[0m, in \u001b[0;36mIndex.get_loc\u001b[0;34m(self, key)\u001b[0m\n\u001b[1;32m   3804\u001b[0m \u001b[39mtry\u001b[39;00m:\n\u001b[0;32m-> 3805\u001b[0m     \u001b[39mreturn\u001b[39;00m \u001b[39mself\u001b[39;49m\u001b[39m.\u001b[39;49m_engine\u001b[39m.\u001b[39;49mget_loc(casted_key)\n\u001b[1;32m   3806\u001b[0m \u001b[39mexcept\u001b[39;00m \u001b[39mKeyError\u001b[39;00m \u001b[39mas\u001b[39;00m err:\n",
      "File \u001b[0;32mindex.pyx:167\u001b[0m, in \u001b[0;36mpandas._libs.index.IndexEngine.get_loc\u001b[0;34m()\u001b[0m\n",
      "File \u001b[0;32mindex.pyx:196\u001b[0m, in \u001b[0;36mpandas._libs.index.IndexEngine.get_loc\u001b[0;34m()\u001b[0m\n",
      "File \u001b[0;32mpandas/_libs/hashtable_class_helper.pxi:7081\u001b[0m, in \u001b[0;36mpandas._libs.hashtable.PyObjectHashTable.get_item\u001b[0;34m()\u001b[0m\n",
      "File \u001b[0;32mpandas/_libs/hashtable_class_helper.pxi:7089\u001b[0m, in \u001b[0;36mpandas._libs.hashtable.PyObjectHashTable.get_item\u001b[0;34m()\u001b[0m\n",
      "\u001b[0;31mKeyError\u001b[0m: 'keyID38'",
      "\nThe above exception was the direct cause of the following exception:\n",
      "\u001b[0;31mKeyError\u001b[0m                                  Traceback (most recent call last)",
      "Cell \u001b[0;32mIn[17], line 15\u001b[0m, in \u001b[0;36msave_uniqueCount\u001b[0;34m(col, dfs, dfnames, PATH)\u001b[0m\n\u001b[1;32m     14\u001b[0m uniqCol \u001b[39m=\u001b[39m []\n\u001b[0;32m---> 15\u001b[0m lengthAll \u001b[39m=\u001b[39m \u001b[39mlen\u001b[39m(df[col])\n\u001b[1;32m     16\u001b[0m lengthUniq \u001b[39m=\u001b[39m \u001b[39mlen\u001b[39m(df[col]\u001b[39m.\u001b[39munique())\n",
      "File \u001b[0;32m~/anaconda3/envs/py39/lib/python3.9/site-packages/pandas/core/frame.py:4102\u001b[0m, in \u001b[0;36mDataFrame.__getitem__\u001b[0;34m(self, key)\u001b[0m\n\u001b[1;32m   4101\u001b[0m     \u001b[39mreturn\u001b[39;00m \u001b[39mself\u001b[39m\u001b[39m.\u001b[39m_getitem_multilevel(key)\n\u001b[0;32m-> 4102\u001b[0m indexer \u001b[39m=\u001b[39m \u001b[39mself\u001b[39;49m\u001b[39m.\u001b[39;49mcolumns\u001b[39m.\u001b[39;49mget_loc(key)\n\u001b[1;32m   4103\u001b[0m \u001b[39mif\u001b[39;00m is_integer(indexer):\n",
      "File \u001b[0;32m~/anaconda3/envs/py39/lib/python3.9/site-packages/pandas/core/indexes/base.py:3812\u001b[0m, in \u001b[0;36mIndex.get_loc\u001b[0;34m(self, key)\u001b[0m\n\u001b[1;32m   3811\u001b[0m         \u001b[39mraise\u001b[39;00m InvalidIndexError(key)\n\u001b[0;32m-> 3812\u001b[0m     \u001b[39mraise\u001b[39;00m \u001b[39mKeyError\u001b[39;00m(key) \u001b[39mfrom\u001b[39;00m \u001b[39merr\u001b[39;00m\n\u001b[1;32m   3813\u001b[0m \u001b[39mexcept\u001b[39;00m \u001b[39mTypeError\u001b[39;00m:\n\u001b[1;32m   3814\u001b[0m     \u001b[39m# If we have a listlike key, _check_indexing_error will raise\u001b[39;00m\n\u001b[1;32m   3815\u001b[0m     \u001b[39m#  InvalidIndexError. Otherwise we fall through and re-raise\u001b[39;00m\n\u001b[1;32m   3816\u001b[0m     \u001b[39m#  the TypeError.\u001b[39;00m\n",
      "\u001b[0;31mKeyError\u001b[0m: 'keyID38'",
      "\nDuring handling of the above exception, another exception occurred:\n",
      "\u001b[0;31mIndexError\u001b[0m                                Traceback (most recent call last)",
      "File \u001b[1;32m/Users/mariapalafox/Desktop/BOLDcaution/WGS/5-annotation/3-interpret/2_summarize_cleaned_vep_output.py:6\u001b[0m\n\u001b[1;32m      3\u001b[0m count_unique_value_columns \u001b[39m=\u001b[39m [\u001b[39m'\u001b[39m\u001b[39mkeyID38\u001b[39m\u001b[39m'\u001b[39m,\u001b[39m'\u001b[39m\u001b[39mGene\u001b[39m\u001b[39m'\u001b[39m,\u001b[39m'\u001b[39m\u001b[39mSYMBOL\u001b[39m\u001b[39m'\u001b[39m, \u001b[39m'\u001b[39m\u001b[39mCCDS\u001b[39m\u001b[39m'\u001b[39m, \u001b[39m'\u001b[39m\u001b[39mFeature\u001b[39m\u001b[39m'\u001b[39m, \u001b[39m'\u001b[39m\u001b[39mENSP\u001b[39m\u001b[39m'\u001b[39m,\u001b[39m'\u001b[39m\u001b[39mSWISSPROT\u001b[39m\u001b[39m'\u001b[39m]\n\u001b[1;32m      5\u001b[0m \u001b[39mfor\u001b[39;00m i \u001b[39min\u001b[39;00m count_unique_value_columns:\n\u001b[0;32m----> 6\u001b[0m     save_uniqueCount(i, dfs, dfnames, path)\n",
      "Cell \u001b[0;32mIn[17], line 25\u001b[0m, in \u001b[0;36msave_uniqueCount\u001b[0;34m(col, dfs, dfnames, PATH)\u001b[0m\n\u001b[1;32m     23\u001b[0m         uniqueDF \u001b[39m=\u001b[39m pd\u001b[39m.\u001b[39mDataFrame([allCol, uniqCol])\n\u001b[1;32m     24\u001b[0m         \u001b[39m# save excel sheet\u001b[39;00m\n\u001b[0;32m---> 25\u001b[0m         uniqueDF\u001b[39m.\u001b[39mto_excel(writer, sheet_name\u001b[39m=\u001b[39mdfname)\n\u001b[1;32m     26\u001b[0m \u001b[39mprint\u001b[39m(\u001b[39m'\u001b[39m\u001b[39mdone saving multi-sheet excel : \u001b[39m\u001b[39m'\u001b[39m,  output)\n",
      "File \u001b[0;32m~/anaconda3/envs/py39/lib/python3.9/site-packages/pandas/io/excel/_base.py:1353\u001b[0m, in \u001b[0;36mExcelWriter.__exit__\u001b[0;34m(self, exc_type, exc_value, traceback)\u001b[0m\n\u001b[1;32m   1347\u001b[0m \u001b[39mdef\u001b[39;00m \u001b[39m__exit__\u001b[39m(\n\u001b[1;32m   1348\u001b[0m     \u001b[39mself\u001b[39m,\n\u001b[1;32m   1349\u001b[0m     exc_type: \u001b[39mtype\u001b[39m[\u001b[39mBaseException\u001b[39;00m] \u001b[39m|\u001b[39m \u001b[39mNone\u001b[39;00m,\n\u001b[1;32m   1350\u001b[0m     exc_value: \u001b[39mBaseException\u001b[39;00m \u001b[39m|\u001b[39m \u001b[39mNone\u001b[39;00m,\n\u001b[1;32m   1351\u001b[0m     traceback: TracebackType \u001b[39m|\u001b[39m \u001b[39mNone\u001b[39;00m,\n\u001b[1;32m   1352\u001b[0m ) \u001b[39m-\u001b[39m\u001b[39m>\u001b[39m \u001b[39mNone\u001b[39;00m:\n\u001b[0;32m-> 1353\u001b[0m     \u001b[39mself\u001b[39;49m\u001b[39m.\u001b[39;49mclose()\n",
      "File \u001b[0;32m~/anaconda3/envs/py39/lib/python3.9/site-packages/pandas/io/excel/_base.py:1357\u001b[0m, in \u001b[0;36mExcelWriter.close\u001b[0;34m(self)\u001b[0m\n\u001b[1;32m   1355\u001b[0m \u001b[39mdef\u001b[39;00m \u001b[39mclose\u001b[39m(\u001b[39mself\u001b[39m) \u001b[39m-\u001b[39m\u001b[39m>\u001b[39m \u001b[39mNone\u001b[39;00m:\n\u001b[1;32m   1356\u001b[0m \u001b[39m    \u001b[39m\u001b[39m\"\"\"synonym for save, to make it more file-like\"\"\"\u001b[39;00m\n\u001b[0;32m-> 1357\u001b[0m     \u001b[39mself\u001b[39;49m\u001b[39m.\u001b[39;49m_save()\n\u001b[1;32m   1358\u001b[0m     \u001b[39mself\u001b[39m\u001b[39m.\u001b[39m_handles\u001b[39m.\u001b[39mclose()\n",
      "File \u001b[0;32m~/anaconda3/envs/py39/lib/python3.9/site-packages/pandas/io/excel/_openpyxl.py:110\u001b[0m, in \u001b[0;36mOpenpyxlWriter._save\u001b[0;34m(self)\u001b[0m\n\u001b[1;32m    106\u001b[0m \u001b[39mdef\u001b[39;00m \u001b[39m_save\u001b[39m(\u001b[39mself\u001b[39m) \u001b[39m-\u001b[39m\u001b[39m>\u001b[39m \u001b[39mNone\u001b[39;00m:\n\u001b[1;32m    107\u001b[0m \u001b[39m    \u001b[39m\u001b[39m\"\"\"\u001b[39;00m\n\u001b[1;32m    108\u001b[0m \u001b[39m    Save workbook to disk.\u001b[39;00m\n\u001b[1;32m    109\u001b[0m \u001b[39m    \"\"\"\u001b[39;00m\n\u001b[0;32m--> 110\u001b[0m     \u001b[39mself\u001b[39;49m\u001b[39m.\u001b[39;49mbook\u001b[39m.\u001b[39;49msave(\u001b[39mself\u001b[39;49m\u001b[39m.\u001b[39;49m_handles\u001b[39m.\u001b[39;49mhandle)\n\u001b[1;32m    111\u001b[0m     \u001b[39mif\u001b[39;00m \u001b[39m\"\u001b[39m\u001b[39mr+\u001b[39m\u001b[39m\"\u001b[39m \u001b[39min\u001b[39;00m \u001b[39mself\u001b[39m\u001b[39m.\u001b[39m_mode \u001b[39mand\u001b[39;00m \u001b[39mnot\u001b[39;00m \u001b[39misinstance\u001b[39m(\u001b[39mself\u001b[39m\u001b[39m.\u001b[39m_handles\u001b[39m.\u001b[39mhandle, mmap\u001b[39m.\u001b[39mmmap):\n\u001b[1;32m    112\u001b[0m         \u001b[39m# truncate file to the written content\u001b[39;00m\n\u001b[1;32m    113\u001b[0m         \u001b[39mself\u001b[39m\u001b[39m.\u001b[39m_handles\u001b[39m.\u001b[39mhandle\u001b[39m.\u001b[39mtruncate()\n",
      "File \u001b[0;32m~/anaconda3/envs/py39/lib/python3.9/site-packages/openpyxl/workbook/workbook.py:386\u001b[0m, in \u001b[0;36mWorkbook.save\u001b[0;34m(self, filename)\u001b[0m\n\u001b[1;32m    384\u001b[0m \u001b[39mif\u001b[39;00m \u001b[39mself\u001b[39m\u001b[39m.\u001b[39mwrite_only \u001b[39mand\u001b[39;00m \u001b[39mnot\u001b[39;00m \u001b[39mself\u001b[39m\u001b[39m.\u001b[39mworksheets:\n\u001b[1;32m    385\u001b[0m     \u001b[39mself\u001b[39m\u001b[39m.\u001b[39mcreate_sheet()\n\u001b[0;32m--> 386\u001b[0m save_workbook(\u001b[39mself\u001b[39;49m, filename)\n",
      "File \u001b[0;32m~/anaconda3/envs/py39/lib/python3.9/site-packages/openpyxl/writer/excel.py:294\u001b[0m, in \u001b[0;36msave_workbook\u001b[0;34m(workbook, filename)\u001b[0m\n\u001b[1;32m    292\u001b[0m workbook\u001b[39m.\u001b[39mproperties\u001b[39m.\u001b[39mmodified \u001b[39m=\u001b[39m datetime\u001b[39m.\u001b[39mdatetime\u001b[39m.\u001b[39mutcnow()\n\u001b[1;32m    293\u001b[0m writer \u001b[39m=\u001b[39m ExcelWriter(workbook, archive)\n\u001b[0;32m--> 294\u001b[0m writer\u001b[39m.\u001b[39;49msave()\n\u001b[1;32m    295\u001b[0m \u001b[39mreturn\u001b[39;00m \u001b[39mTrue\u001b[39;00m\n",
      "File \u001b[0;32m~/anaconda3/envs/py39/lib/python3.9/site-packages/openpyxl/writer/excel.py:275\u001b[0m, in \u001b[0;36mExcelWriter.save\u001b[0;34m(self)\u001b[0m\n\u001b[1;32m    273\u001b[0m \u001b[39mdef\u001b[39;00m \u001b[39msave\u001b[39m(\u001b[39mself\u001b[39m):\n\u001b[1;32m    274\u001b[0m \u001b[39m    \u001b[39m\u001b[39m\"\"\"Write data into the archive.\"\"\"\u001b[39;00m\n\u001b[0;32m--> 275\u001b[0m     \u001b[39mself\u001b[39;49m\u001b[39m.\u001b[39;49mwrite_data()\n\u001b[1;32m    276\u001b[0m     \u001b[39mself\u001b[39m\u001b[39m.\u001b[39m_archive\u001b[39m.\u001b[39mclose()\n",
      "File \u001b[0;32m~/anaconda3/envs/py39/lib/python3.9/site-packages/openpyxl/writer/excel.py:89\u001b[0m, in \u001b[0;36mExcelWriter.write_data\u001b[0;34m(self)\u001b[0m\n\u001b[1;32m     87\u001b[0m writer \u001b[39m=\u001b[39m WorkbookWriter(\u001b[39mself\u001b[39m\u001b[39m.\u001b[39mworkbook)\n\u001b[1;32m     88\u001b[0m archive\u001b[39m.\u001b[39mwritestr(ARC_ROOT_RELS, writer\u001b[39m.\u001b[39mwrite_root_rels())\n\u001b[0;32m---> 89\u001b[0m archive\u001b[39m.\u001b[39mwritestr(ARC_WORKBOOK, writer\u001b[39m.\u001b[39;49mwrite())\n\u001b[1;32m     90\u001b[0m archive\u001b[39m.\u001b[39mwritestr(ARC_WORKBOOK_RELS, writer\u001b[39m.\u001b[39mwrite_rels())\n\u001b[1;32m     92\u001b[0m \u001b[39mself\u001b[39m\u001b[39m.\u001b[39m_merge_vba()\n",
      "File \u001b[0;32m~/anaconda3/envs/py39/lib/python3.9/site-packages/openpyxl/workbook/_writer.py:150\u001b[0m, in \u001b[0;36mWorkbookWriter.write\u001b[0;34m(self)\u001b[0m\n\u001b[1;32m    148\u001b[0m \u001b[39mself\u001b[39m\u001b[39m.\u001b[39mwrite_names()\n\u001b[1;32m    149\u001b[0m \u001b[39mself\u001b[39m\u001b[39m.\u001b[39mwrite_pivots()\n\u001b[0;32m--> 150\u001b[0m \u001b[39mself\u001b[39;49m\u001b[39m.\u001b[39;49mwrite_views()\n\u001b[1;32m    151\u001b[0m \u001b[39mself\u001b[39m\u001b[39m.\u001b[39mwrite_refs()\n\u001b[1;32m    153\u001b[0m \u001b[39mreturn\u001b[39;00m tostring(\u001b[39mself\u001b[39m\u001b[39m.\u001b[39mpackage\u001b[39m.\u001b[39mto_tree())\n",
      "File \u001b[0;32m~/anaconda3/envs/py39/lib/python3.9/site-packages/openpyxl/workbook/_writer.py:137\u001b[0m, in \u001b[0;36mWorkbookWriter.write_views\u001b[0;34m(self)\u001b[0m\n\u001b[1;32m    136\u001b[0m \u001b[39mdef\u001b[39;00m \u001b[39mwrite_views\u001b[39m(\u001b[39mself\u001b[39m):\n\u001b[0;32m--> 137\u001b[0m     active \u001b[39m=\u001b[39m get_active_sheet(\u001b[39mself\u001b[39;49m\u001b[39m.\u001b[39;49mwb)\n\u001b[1;32m    138\u001b[0m     \u001b[39mif\u001b[39;00m \u001b[39mself\u001b[39m\u001b[39m.\u001b[39mwb\u001b[39m.\u001b[39mviews:\n\u001b[1;32m    139\u001b[0m         \u001b[39mself\u001b[39m\u001b[39m.\u001b[39mwb\u001b[39m.\u001b[39mviews[\u001b[39m0\u001b[39m]\u001b[39m.\u001b[39mactiveTab \u001b[39m=\u001b[39m active\n",
      "File \u001b[0;32m~/anaconda3/envs/py39/lib/python3.9/site-packages/openpyxl/workbook/_writer.py:35\u001b[0m, in \u001b[0;36mget_active_sheet\u001b[0;34m(wb)\u001b[0m\n\u001b[1;32m     33\u001b[0m visible_sheets \u001b[39m=\u001b[39m [idx \u001b[39mfor\u001b[39;00m idx, sheet \u001b[39min\u001b[39;00m \u001b[39menumerate\u001b[39m(wb\u001b[39m.\u001b[39m_sheets) \u001b[39mif\u001b[39;00m sheet\u001b[39m.\u001b[39msheet_state \u001b[39m==\u001b[39m \u001b[39m\"\u001b[39m\u001b[39mvisible\u001b[39m\u001b[39m\"\u001b[39m]\n\u001b[1;32m     34\u001b[0m \u001b[39mif\u001b[39;00m \u001b[39mnot\u001b[39;00m visible_sheets:\n\u001b[0;32m---> 35\u001b[0m     \u001b[39mraise\u001b[39;00m \u001b[39mIndexError\u001b[39;00m(\u001b[39m\"\u001b[39m\u001b[39mAt least one sheet must be visible\u001b[39m\u001b[39m\"\u001b[39m)\n\u001b[1;32m     37\u001b[0m idx \u001b[39m=\u001b[39m wb\u001b[39m.\u001b[39m_active_sheet_index\n\u001b[1;32m     38\u001b[0m sheet \u001b[39m=\u001b[39m wb\u001b[39m.\u001b[39mactive\n",
      "\u001b[0;31mIndexError\u001b[0m: At least one sheet must be visible"
     ]
    }
   ],
   "source": [
    "# %%\n",
    "\n",
    "# unique values\n",
    "count_unique_value_columns = ['keyID38','Gene','SYMBOL', 'CCDS', 'Feature', 'ENSP','SWISSPROT']\n",
    "\n",
    "for i in count_unique_value_columns:\n",
    "    save_uniqueCount(i, dfs, dfnames, path)"
   ]
  },
  {
   "cell_type": "code",
   "execution_count": null,
   "id": "15b0b988-d747-4d4e-91b0-349d00cba03e",
   "metadata": {},
   "outputs": [
    {
     "name": "stdout",
     "output_type": "stream",
     "text": [
      "indel12\n",
      "indel63\n",
      "snp12\n",
      "snp63\n",
      "done saving multi-sheet excel :  /Users/mariapalafox/Desktop/BOLDcaution/WGS/5-annotation/3-interpret/2-summarize-v4/uniqueCount-Gene.xlsx\n",
      "indel12\n",
      "indel63\n",
      "snp12\n",
      "snp63\n",
      "done saving multi-sheet excel :  /Users/mariapalafox/Desktop/BOLDcaution/WGS/5-annotation/3-interpret/2-summarize-v4/uniqueCount-SYMBOL.xlsx\n",
      "indel12\n",
      "indel63\n",
      "snp12\n",
      "snp63\n",
      "done saving multi-sheet excel :  /Users/mariapalafox/Desktop/BOLDcaution/WGS/5-annotation/3-interpret/2-summarize-v4/uniqueCount-CCDS.xlsx\n",
      "indel12\n",
      "indel63\n",
      "snp12\n",
      "snp63\n",
      "done saving multi-sheet excel :  /Users/mariapalafox/Desktop/BOLDcaution/WGS/5-annotation/3-interpret/2-summarize-v4/uniqueCount-Feature.xlsx\n",
      "indel12\n",
      "indel63\n",
      "snp12\n",
      "snp63\n",
      "done saving multi-sheet excel :  /Users/mariapalafox/Desktop/BOLDcaution/WGS/5-annotation/3-interpret/2-summarize-v4/uniqueCount-ENSP.xlsx\n",
      "indel12\n",
      "indel63\n",
      "snp12\n",
      "snp63\n",
      "done saving multi-sheet excel :  /Users/mariapalafox/Desktop/BOLDcaution/WGS/5-annotation/3-interpret/2-summarize-v4/uniqueCount-SWISSPROT.xlsx\n"
     ]
    }
   ],
   "source": [
    "# %%\n",
    "\n",
    "# unique values\n",
    "count_unique_value_columns = ['Gene','SYMBOL', 'CCDS', 'Feature', 'ENSP','SWISSPROT']\n",
    "# keyID38 is only in snp dfs\n",
    "for i in count_unique_value_columns:\n",
    "    save_uniqueCount(i, dfs, dfnames, path)"
   ]
  },
  {
   "cell_type": "code",
   "execution_count": null,
   "id": "d33032a7-576a-4c81-9430-e0661c5a6009",
   "metadata": {},
   "outputs": [
    {
     "name": "stdout",
     "output_type": "stream",
     "text": [
      "snp12\n",
      "snp63\n",
      "done saving multi-sheet excel :  /Users/mariapalafox/Desktop/BOLDcaution/WGS/5-annotation/3-interpret/2-summarize-v4/uniqueCount-keyID38.xlsx\n"
     ]
    }
   ],
   "source": [
    "# %%\n",
    "\n",
    "# keyID38 is only in snp dfs\n",
    "save_uniqueCount('keyID38', snps, snpnames, path)"
   ]
  },
  {
   "cell_type": "code",
   "execution_count": null,
   "id": "354ea6a4-1ffb-40ad-b921-009157f36512",
   "metadata": {},
   "outputs": [],
   "source": [
    "# %%\n",
    "\n",
    "def save_crossTabIt(col1, col2, dfs, dfnames, PATH):\n",
    "    # funx to save crosstab of columns in a sheet of an excel\n",
    "    # col1: column name\n",
    "    # col2: column name\n",
    "    # dfs: list of dataframes\n",
    "    # dfnames: list of names of dataframes\n",
    "    output =  PATH + col1 + '-' + col2 + '-crossTabIt' + '.xlsx'\n",
    "    for x, df in enumerate(dfs):\n",
    "        dfname = dfnames[x]\n",
    "        print(dfname)\n",
    "        # function call\n",
    "        x1, s1 = save_crosstabit_sheet(df, col1, col2, True)\n",
    "        with pd.ExcelWriter(output) as writer:\n",
    "            x1.to_excel(writer, sheet_name = s1)\n",
    "    print('done saving multi-sheet excel : ',  output)"
   ]
  },
  {
   "cell_type": "code",
   "execution_count": null,
   "id": "9c9a1ec0-d2eb-4f44-a2f9-bda29907fe44",
   "metadata": {},
   "outputs": [
    {
     "name": "stdout",
     "output_type": "stream",
     "text": [
      "indel12\n",
      "indel63\n",
      "snp12\n",
      "snp63\n",
      "done saving multi-sheet excel :  /Users/mariapalafox/Desktop/BOLDcaution/WGS/5-annotation/3-interpret/2-summarize-v4/CLIN_SIG-ZYG-crossTabIt.xlsx\n",
      "indel12\n",
      "indel63\n",
      "snp12\n",
      "snp63\n",
      "done saving multi-sheet excel :  /Users/mariapalafox/Desktop/BOLDcaution/WGS/5-annotation/3-interpret/2-summarize-v4/IMPACT-ZYG-crossTabIt.xlsx\n",
      "indel12\n",
      "indel63\n",
      "snp12\n",
      "snp63\n",
      "done saving multi-sheet excel :  /Users/mariapalafox/Desktop/BOLDcaution/WGS/5-annotation/3-interpret/2-summarize-v4/Consequence-ZYG-crossTabIt.xlsx\n",
      "indel12\n",
      "indel63\n",
      "snp12\n",
      "snp63\n",
      "done saving multi-sheet excel :  /Users/mariapalafox/Desktop/BOLDcaution/WGS/5-annotation/3-interpret/2-summarize-v4/Consequence-IMPACT-crossTabIt.xlsx\n",
      "indel12\n",
      "indel63\n",
      "snp12\n",
      "snp63\n",
      "done saving multi-sheet excel :  /Users/mariapalafox/Desktop/BOLDcaution/WGS/5-annotation/3-interpret/2-summarize-v4/SYMBOL-IMPACT-crossTabIt.xlsx\n",
      "indel12\n",
      "indel63\n",
      "snp12\n",
      "snp63\n",
      "done saving multi-sheet excel :  /Users/mariapalafox/Desktop/BOLDcaution/WGS/5-annotation/3-interpret/2-summarize-v4/SYMBOL-Consequence-crossTabIt.xlsx\n"
     ]
    }
   ],
   "source": [
    "# %%\n",
    "\n",
    "# cross tab\n",
    "# be consistent with order of sift and polyphen\n",
    "# add feature_type\n",
    "save_crossTabIt(\"CLIN_SIG\", \"ZYG\", dfs, dfnames, path)\n",
    "save_crossTabIt(\"IMPACT\", \"ZYG\", dfs, dfnames, path)\n",
    "save_crossTabIt(\"Consequence\", \"ZYG\", dfs, dfnames, path)\n",
    "save_crossTabIt(\"Consequence\", \"IMPACT\", dfs, dfnames, path)\n",
    "save_crossTabIt(\"SYMBOL\", \"IMPACT\", dfs, dfnames, path)\n",
    "save_crossTabIt(\"SYMBOL\", \"Consequence\", dfs, dfnames, path)"
   ]
  },
  {
   "cell_type": "code",
   "execution_count": null,
   "id": "ed4d1bf3-78cf-4bee-ab24-7249884ed47c",
   "metadata": {},
   "outputs": [],
   "source": [
    "# %%\n",
    "\n",
    "def save_crossTabIt(col1, col2, dfs, dfnames, PATH):\n",
    "    # funx to save crosstab of columns in a sheet of an excel\n",
    "    # col1: column name\n",
    "    # col2: column name\n",
    "    # dfs: list of dataframes\n",
    "    # dfnames: list of names of dataframes\n",
    "    output =  PATH + 'crossTabIt-' + col1 + '-' + col2 + '.xlsx'\n",
    "    for x, df in enumerate(dfs):\n",
    "        dfname = dfnames[x]\n",
    "        print(dfname)\n",
    "        # function call\n",
    "        x1, s1 = save_crosstabit_sheet(df, col1, col2, True)\n",
    "        with pd.ExcelWriter(output) as writer:\n",
    "            x1.to_excel(writer, sheet_name = s1)\n",
    "    print('done saving multi-sheet excel : ',  output)"
   ]
  },
  {
   "cell_type": "code",
   "execution_count": null,
   "id": "88338679-2311-4786-9547-3350e15edd65",
   "metadata": {},
   "outputs": [],
   "source": [
    "# %%\n",
    "\n",
    "def save_crossTabIt(col1, col2, dfs, dfnames, PATH):\n",
    "    # funx to save crosstab of columns in a sheet of an excel\n",
    "    # col1: column name\n",
    "    # col2: column name\n",
    "    # dfs: list of dataframes\n",
    "    # dfnames: list of names of dataframes\n",
    "    output =  PATH + 'crossTabIt-' + col1 + '-' + col2 + '.xlsx'\n",
    "    for x, df in enumerate(dfs):\n",
    "        dfname = dfnames[x]\n",
    "        print(dfname)\n",
    "        # function call\n",
    "        x1, s1 = save_crosstabit_sheet(df, col1, col2, True)\n",
    "        with pd.ExcelWriter(output) as writer:\n",
    "            x1.to_excel(writer, sheet_name = s1)\n",
    "    print('done saving multi-sheet excel : ',  output)"
   ]
  },
  {
   "cell_type": "code",
   "execution_count": null,
   "id": "9145c2d4-264c-411f-9e71-c7023c903ce9",
   "metadata": {},
   "outputs": [
    {
     "name": "stdout",
     "output_type": "stream",
     "text": [
      "indel12_false\n",
      "indel63_false\n",
      "snp12_false\n",
      "snp63_false\n",
      "done saving multi-sheet excel :  /Users/mariapalafox/Desktop/BOLDcaution/WGS/5-annotation/3-interpret/2-summarize-v4/SYMBOL-checkValueCount.xlsx\n",
      "indel12\n",
      "indel63\n",
      "snp12\n",
      "snp63\n",
      "done saving multi-sheet excel :  /Users/mariapalafox/Desktop/BOLDcaution/WGS/5-annotation/3-interpret/2-summarize-v4/Feature_type-checkValueCount.xlsx\n",
      "indel12\n",
      "indel63\n",
      "snp12\n",
      "snp63\n",
      "done saving multi-sheet excel :  /Users/mariapalafox/Desktop/BOLDcaution/WGS/5-annotation/3-interpret/2-summarize-v4/Consequence-checkValueCount.xlsx\n",
      "indel12\n",
      "indel63\n",
      "snp12\n",
      "snp63\n",
      "done saving multi-sheet excel :  /Users/mariapalafox/Desktop/BOLDcaution/WGS/5-annotation/3-interpret/2-summarize-v4/ZYG-checkValueCount.xlsx\n",
      "indel12\n",
      "indel63\n",
      "snp12\n",
      "snp63\n",
      "done saving multi-sheet excel :  /Users/mariapalafox/Desktop/BOLDcaution/WGS/5-annotation/3-interpret/2-summarize-v4/IMPACT-checkValueCount.xlsx\n",
      "indel12\n",
      "indel63\n",
      "snp12\n",
      "snp63\n",
      "done saving multi-sheet excel :  /Users/mariapalafox/Desktop/BOLDcaution/WGS/5-annotation/3-interpret/2-summarize-v4/VARIANT_CLASS-checkValueCount.xlsx\n",
      "indel12\n",
      "indel63\n",
      "snp12\n",
      "snp63\n",
      "done saving multi-sheet excel :  /Users/mariapalafox/Desktop/BOLDcaution/WGS/5-annotation/3-interpret/2-summarize-v4/SYMBOL-checkValueCount.xlsx\n",
      "indel12\n",
      "indel63\n",
      "snp12\n",
      "snp63\n",
      "done saving multi-sheet excel :  /Users/mariapalafox/Desktop/BOLDcaution/WGS/5-annotation/3-interpret/2-summarize-v4/SYMBOL_SOURCE-checkValueCount.xlsx\n",
      "indel12\n",
      "indel63\n",
      "snp12\n",
      "snp63\n",
      "done saving multi-sheet excel :  /Users/mariapalafox/Desktop/BOLDcaution/WGS/5-annotation/3-interpret/2-summarize-v4/BIOTYPE-checkValueCount.xlsx\n",
      "indel12\n",
      "indel63\n",
      "snp12\n",
      "snp63\n",
      "done saving multi-sheet excel :  /Users/mariapalafox/Desktop/BOLDcaution/WGS/5-annotation/3-interpret/2-summarize-v4/GIVEN_REF_MATCH-checkValueCount.xlsx\n",
      "indel12\n",
      "indel63\n",
      "snp12\n",
      "snp63\n",
      "done saving multi-sheet excel :  /Users/mariapalafox/Desktop/BOLDcaution/WGS/5-annotation/3-interpret/2-summarize-v4/CLIN_SIG-checkValueCount.xlsx\n",
      "indel12\n",
      "indel63\n",
      "snp12\n",
      "snp63\n",
      "done saving multi-sheet excel :  /Users/mariapalafox/Desktop/BOLDcaution/WGS/5-annotation/3-interpret/2-summarize-v4/PHENO-checkValueCount.xlsx\n",
      "indel12\n",
      "indel63\n",
      "snp12\n",
      "snp63\n",
      "done saving multi-sheet excel :  /Users/mariapalafox/Desktop/BOLDcaution/WGS/5-annotation/3-interpret/2-summarize-v4/SOMATIC-checkValueCount.xlsx\n",
      "indel12\n",
      "indel63\n",
      "snp12\n",
      "snp63\n",
      "done saving multi-sheet excel :  /Users/mariapalafox/Desktop/BOLDcaution/WGS/5-annotation/3-interpret/2-summarize-v4/chr-checkValueCount.xlsx\n",
      "indel12\n",
      "indel63\n",
      "snp12\n",
      "snp63\n",
      "done saving multi-sheet excel :  /Users/mariapalafox/Desktop/BOLDcaution/WGS/5-annotation/3-interpret/2-summarize-v4/Allele-checkValueCount.xlsx\n",
      "indel12\n",
      "indel63\n",
      "snp12\n",
      "snp63\n",
      "done saving multi-sheet excel :  /Users/mariapalafox/Desktop/BOLDcaution/WGS/5-annotation/3-interpret/2-summarize-v4/REF_ALLELE-checkValueCount.xlsx\n",
      "indel12\n",
      "indel63\n",
      "snp12\n",
      "snp63\n",
      "done saving multi-sheet excel :  /Users/mariapalafox/Desktop/BOLDcaution/WGS/5-annotation/3-interpret/2-summarize-v4/Amino_acids-checkValueCount.xlsx\n",
      "indel12\n",
      "indel63\n",
      "snp12\n",
      "snp63\n",
      "done saving multi-sheet excel :  /Users/mariapalafox/Desktop/BOLDcaution/WGS/5-annotation/3-interpret/2-summarize-v4/Gene-checkValueCount.xlsx\n",
      "indel12\n",
      "indel63\n",
      "snp12\n",
      "snp63\n",
      "done saving multi-sheet excel :  /Users/mariapalafox/Desktop/BOLDcaution/WGS/5-annotation/3-interpret/2-summarize-v4/STRAND-checkValueCount.xlsx\n",
      "indel12\n",
      "indel63\n",
      "snp12\n",
      "snp63\n",
      "done saving multi-sheet excel :  /Users/mariapalafox/Desktop/BOLDcaution/WGS/5-annotation/3-interpret/2-summarize-v4/FLAGS-checkValueCount.xlsx\n",
      "indel12\n",
      "indel63\n",
      "snp12\n",
      "snp63\n",
      "done saving multi-sheet excel :  /Users/mariapalafox/Desktop/BOLDcaution/WGS/5-annotation/3-interpret/2-summarize-v4/SWISSPROT-checkValueCount.xlsx\n",
      "indel12\n",
      "indel63\n",
      "snp12\n",
      "snp63\n",
      "done saving multi-sheet excel :  /Users/mariapalafox/Desktop/BOLDcaution/WGS/5-annotation/3-interpret/2-summarize-v4/GENE_PHENO-checkValueCount.xlsx\n",
      "indel12\n",
      "indel63\n",
      "snp12\n",
      "snp63\n",
      "done saving multi-sheet excel :  /Users/mariapalafox/Desktop/BOLDcaution/WGS/5-annotation/3-interpret/2-summarize-v4/MAX_AF_POPS-checkValueCount.xlsx\n",
      "indel12\n",
      "indel63\n",
      "snp12\n",
      "snp63\n",
      "done saving multi-sheet excel :  /Users/mariapalafox/Desktop/BOLDcaution/WGS/5-annotation/3-interpret/2-summarize-v4/HIGH_INF_POS-checkValueCount.xlsx\n",
      "indel12\n",
      "indel63\n",
      "snp12\n",
      "snp63\n",
      "done saving multi-sheet excel :  /Users/mariapalafox/Desktop/BOLDcaution/WGS/5-annotation/3-interpret/2-summarize-v4/MOTIF_NAME-checkValueCount.xlsx\n"
     ]
    }
   ],
   "source": [
    "# %%\n",
    "\n",
    "# check Column Value calls\n",
    "save_colValueCount('SYMBOL', dfs_false, dfnames_false, path) # QC\n",
    "save_colValueCount('Feature_type', dfs, dfnames, path)\n",
    "save_colValueCount('Consequence', dfs, dfnames, path)\n",
    "save_colValueCount('ZYG', dfs, dfnames, path)\n",
    "save_colValueCount('IMPACT', dfs, dfnames, path)\n",
    "save_colValueCount('VARIANT_CLASS', dfs, dfnames, path)\n",
    "save_colValueCount('SYMBOL', dfs, dfnames, path)\n",
    "save_colValueCount('SYMBOL_SOURCE', dfs, dfnames, path)\n",
    "save_colValueCount('BIOTYPE', dfs, dfnames, path)\n",
    "save_colValueCount('GIVEN_REF_MATCH', dfs, dfnames, path)\n",
    "save_colValueCount('CLIN_SIG', dfs, dfnames, path)\n",
    "save_colValueCount('PHENO', dfs, dfnames, path)\n",
    "save_colValueCount('SOMATIC', dfs, dfnames, path)\n",
    "\n",
    "#### new check values #########\n",
    "save_colValueCount('chr', dfs, dfnames, path)\n",
    "save_colValueCount('Allele', dfs, dfnames, path)\n",
    "save_colValueCount('REF_ALLELE', dfs, dfnames, path)\n",
    "save_colValueCount('Amino_acids', dfs, dfnames, path)\n",
    "save_colValueCount('Gene', dfs, dfnames, path)\n",
    "save_colValueCount('STRAND', dfs, dfnames,path)\n",
    "save_colValueCount('FLAGS', dfs, dfnames, path)\n",
    "save_colValueCount('SWISSPROT', dfs, dfnames, path)\n",
    "save_colValueCount('GENE_PHENO', dfs, dfnames, path)\n",
    "save_colValueCount('MAX_AF_POPS', dfs, dfnames, path)\n",
    "save_colValueCount('HIGH_INF_POS', dfs, dfnames, path)\n",
    "save_colValueCount('MOTIF_NAME', dfs, dfnames, path)"
   ]
  },
  {
   "cell_type": "code",
   "execution_count": null,
   "id": "2d7c1f68-c2c2-4252-92fb-4ddd7e015f30",
   "metadata": {},
   "outputs": [
    {
     "name": "stdout",
     "output_type": "stream",
     "text": [
      "snp12\n",
      "snp63\n",
      "done saving multi-sheet excel :  /Users/mariapalafox/Desktop/BOLDcaution/WGS/5-annotation/3-interpret/2-summarize-v4/SIFTprediction-checkValueCount.xlsx\n",
      "snp12\n",
      "snp63\n",
      "done saving multi-sheet excel :  /Users/mariapalafox/Desktop/BOLDcaution/WGS/5-annotation/3-interpret/2-summarize-v4/PolyPhenprediction-checkValueCount.xlsx\n",
      "done saving multi-sheet excel :  /Users/mariapalafox/Desktop/BOLDcaution/WGS/5-annotation/3-interpret/2-summarize-v4/PolyPhenprediction-checkValueCount.xlsx\n"
     ]
    }
   ],
   "source": [
    "# %%\n",
    "\n",
    "####### snps only ########\n",
    "save_colValueCount('SIFTprediction', snps, snpnames, path)\n",
    "save_colValueCount('PolyPhenprediction', snps, snpnames, path)"
   ]
  },
  {
   "cell_type": "code",
   "execution_count": null,
   "id": "0167fb5e-142d-4a63-bc29-bff6c99d38d6",
   "metadata": {},
   "outputs": [
    {
     "name": "stdout",
     "output_type": "stream",
     "text": [
      "snp12\n",
      "snp63\n",
      "done saving multi-sheet excel :  /Users/mariapalafox/Desktop/BOLDcaution/WGS/5-annotation/3-interpret/2-summarize-v4/crossTabIt-SIFTprediction-ZYG.xlsx\n",
      "snp12\n",
      "snp63\n",
      "done saving multi-sheet excel :  /Users/mariapalafox/Desktop/BOLDcaution/WGS/5-annotation/3-interpret/2-summarize-v4/crossTabIt-PolyPhenprediction-ZYG.xlsx\n",
      "snp12\n",
      "snp63\n",
      "done saving multi-sheet excel :  /Users/mariapalafox/Desktop/BOLDcaution/WGS/5-annotation/3-interpret/2-summarize-v4/crossTabIt-SIFTprediction-Consequence.xlsx\n",
      "snp12\n"
     ]
    },
    {
     "name": "stderr",
     "output_type": "stream",
     "text": [
      "/Users/mariapalafox/anaconda3/envs/py39/lib/python3.9/site-packages/openpyxl/workbook/child.py:99: UserWarning: Title is more than 31 characters. Some applications may not be able to read the file\n",
      "  warnings.warn(\"Title is more than 31 characters. Some applications may not be able to read the file\")\n"
     ]
    },
    {
     "name": "stdout",
     "output_type": "stream",
     "text": [
      "snp63\n"
     ]
    },
    {
     "name": "stderr",
     "output_type": "stream",
     "text": [
      "/Users/mariapalafox/anaconda3/envs/py39/lib/python3.9/site-packages/openpyxl/workbook/child.py:99: UserWarning: Title is more than 31 characters. Some applications may not be able to read the file\n",
      "  warnings.warn(\"Title is more than 31 characters. Some applications may not be able to read the file\")\n"
     ]
    },
    {
     "name": "stdout",
     "output_type": "stream",
     "text": [
      "done saving multi-sheet excel :  /Users/mariapalafox/Desktop/BOLDcaution/WGS/5-annotation/3-interpret/2-summarize-v4/crossTabIt-PolyPhenprediction-Consequence.xlsx\n",
      "snp12\n"
     ]
    },
    {
     "ename": "IndexError",
     "evalue": "At least one sheet must be visible",
     "output_type": "error",
     "traceback": [
      "\u001b[0;31m---------------------------------------------------------------------------\u001b[0m",
      "\u001b[0;31mValueError\u001b[0m                                Traceback (most recent call last)",
      "File \u001b[1;32m/Users/mariapalafox/Desktop/BOLDcaution/WGS/5-annotation/3-interpret/2_summarize_cleaned_vep_output.py:15\u001b[0m\n\u001b[1;32m     14\u001b[0m     \u001b[39mwith\u001b[39;00m pd\u001b[39m.\u001b[39mExcelWriter(output) \u001b[39mas\u001b[39;00m writer:\n\u001b[0;32m---> 15\u001b[0m         x1\u001b[39m.\u001b[39;49mto_excel(writer, sheet_name \u001b[39m=\u001b[39;49m s1)\n\u001b[1;32m     16\u001b[0m \u001b[39mprint\u001b[39m(\u001b[39m'\u001b[39m\u001b[39mdone saving multi-sheet excel : \u001b[39m\u001b[39m'\u001b[39m,  output)\n",
      "File \u001b[0;32m~/anaconda3/envs/py39/lib/python3.9/site-packages/pandas/util/_decorators.py:333\u001b[0m, in \u001b[0;36mdeprecate_nonkeyword_arguments.<locals>.decorate.<locals>.wrapper\u001b[0;34m(*args, **kwargs)\u001b[0m\n\u001b[1;32m    328\u001b[0m     warnings\u001b[39m.\u001b[39mwarn(\n\u001b[1;32m    329\u001b[0m         msg\u001b[39m.\u001b[39mformat(arguments\u001b[39m=\u001b[39m_format_argument_list(allow_args)),\n\u001b[1;32m    330\u001b[0m         \u001b[39mFutureWarning\u001b[39;00m,\n\u001b[1;32m    331\u001b[0m         stacklevel\u001b[39m=\u001b[39mfind_stack_level(),\n\u001b[1;32m    332\u001b[0m     )\n\u001b[0;32m--> 333\u001b[0m \u001b[39mreturn\u001b[39;00m func(\u001b[39m*\u001b[39;49margs, \u001b[39m*\u001b[39;49m\u001b[39m*\u001b[39;49mkwargs)\n",
      "File \u001b[0;32m~/anaconda3/envs/py39/lib/python3.9/site-packages/pandas/core/generic.py:2417\u001b[0m, in \u001b[0;36mNDFrame.to_excel\u001b[0;34m(self, excel_writer, sheet_name, na_rep, float_format, columns, header, index, index_label, startrow, startcol, engine, merge_cells, inf_rep, freeze_panes, storage_options, engine_kwargs)\u001b[0m\n\u001b[1;32m   2406\u001b[0m formatter \u001b[39m=\u001b[39m ExcelFormatter(\n\u001b[1;32m   2407\u001b[0m     df,\n\u001b[1;32m   2408\u001b[0m     na_rep\u001b[39m=\u001b[39mna_rep,\n\u001b[0;32m   (...)\u001b[0m\n\u001b[1;32m   2415\u001b[0m     inf_rep\u001b[39m=\u001b[39minf_rep,\n\u001b[1;32m   2416\u001b[0m )\n\u001b[0;32m-> 2417\u001b[0m formatter\u001b[39m.\u001b[39;49mwrite(\n\u001b[1;32m   2418\u001b[0m     excel_writer,\n\u001b[1;32m   2419\u001b[0m     sheet_name\u001b[39m=\u001b[39;49msheet_name,\n\u001b[1;32m   2420\u001b[0m     startrow\u001b[39m=\u001b[39;49mstartrow,\n\u001b[1;32m   2421\u001b[0m     startcol\u001b[39m=\u001b[39;49mstartcol,\n\u001b[1;32m   2422\u001b[0m     freeze_panes\u001b[39m=\u001b[39;49mfreeze_panes,\n\u001b[1;32m   2423\u001b[0m     engine\u001b[39m=\u001b[39;49mengine,\n\u001b[1;32m   2424\u001b[0m     storage_options\u001b[39m=\u001b[39;49mstorage_options,\n\u001b[1;32m   2425\u001b[0m     engine_kwargs\u001b[39m=\u001b[39;49mengine_kwargs,\n\u001b[1;32m   2426\u001b[0m )\n",
      "File \u001b[0;32m~/anaconda3/envs/py39/lib/python3.9/site-packages/pandas/io/formats/excel.py:931\u001b[0m, in \u001b[0;36mExcelFormatter.write\u001b[0;34m(self, writer, sheet_name, startrow, startcol, freeze_panes, engine, storage_options, engine_kwargs)\u001b[0m\n\u001b[1;32m    930\u001b[0m \u001b[39mif\u001b[39;00m num_rows \u001b[39m>\u001b[39m \u001b[39mself\u001b[39m\u001b[39m.\u001b[39mmax_rows \u001b[39mor\u001b[39;00m num_cols \u001b[39m>\u001b[39m \u001b[39mself\u001b[39m\u001b[39m.\u001b[39mmax_cols:\n\u001b[0;32m--> 931\u001b[0m     \u001b[39mraise\u001b[39;00m \u001b[39mValueError\u001b[39;00m(\n\u001b[1;32m    932\u001b[0m         \u001b[39mf\u001b[39m\u001b[39m\"\u001b[39m\u001b[39mThis sheet is too large! Your sheet size is: \u001b[39m\u001b[39m{\u001b[39;00mnum_rows\u001b[39m}\u001b[39;00m\u001b[39m, \u001b[39m\u001b[39m{\u001b[39;00mnum_cols\u001b[39m}\u001b[39;00m\u001b[39m \u001b[39m\u001b[39m\"\u001b[39m\n\u001b[1;32m    933\u001b[0m         \u001b[39mf\u001b[39m\u001b[39m\"\u001b[39m\u001b[39mMax sheet size is: \u001b[39m\u001b[39m{\u001b[39;00m\u001b[39mself\u001b[39m\u001b[39m.\u001b[39mmax_rows\u001b[39m}\u001b[39;00m\u001b[39m, \u001b[39m\u001b[39m{\u001b[39;00m\u001b[39mself\u001b[39m\u001b[39m.\u001b[39mmax_cols\u001b[39m}\u001b[39;00m\u001b[39m\"\u001b[39m\n\u001b[1;32m    934\u001b[0m     )\n\u001b[1;32m    936\u001b[0m \u001b[39mif\u001b[39;00m engine_kwargs \u001b[39mis\u001b[39;00m \u001b[39mNone\u001b[39;00m:\n",
      "\u001b[0;31mValueError\u001b[0m: This sheet is too large! Your sheet size is: 6, 28321 Max sheet size is: 1048576, 16384",
      "\nDuring handling of the above exception, another exception occurred:\n",
      "\u001b[0;31mIndexError\u001b[0m                                Traceback (most recent call last)",
      "File \u001b[1;32m/Users/mariapalafox/Desktop/BOLDcaution/WGS/5-annotation/3-interpret/2_summarize_cleaned_vep_output.py:7\u001b[0m\n\u001b[1;32m      5\u001b[0m save_crossTabIt(\u001b[39m\"\u001b[39m\u001b[39mSIFTprediction\u001b[39m\u001b[39m\"\u001b[39m, \u001b[39m\"\u001b[39m\u001b[39mConsequence\u001b[39m\u001b[39m\"\u001b[39m, snps, snpnames, path)\n\u001b[1;32m      6\u001b[0m save_crossTabIt(\u001b[39m\"\u001b[39m\u001b[39mPolyPhenprediction\u001b[39m\u001b[39m\"\u001b[39m, \u001b[39m\"\u001b[39m\u001b[39mConsequence\u001b[39m\u001b[39m\"\u001b[39m, snps, snpnames, path)\n\u001b[0;32m----> 7\u001b[0m save_crossTabIt(\u001b[39m\"\u001b[39;49m\u001b[39mSIFTprediction\u001b[39;49m\u001b[39m\"\u001b[39;49m, \u001b[39m\"\u001b[39;49m\u001b[39mSYMBOL\u001b[39;49m\u001b[39m\"\u001b[39;49m, snps, snpnames, path)\n\u001b[1;32m      8\u001b[0m save_crossTabIt(\u001b[39m\"\u001b[39m\u001b[39mPolyPhenprediction\u001b[39m\u001b[39m\"\u001b[39m, \u001b[39m\"\u001b[39m\u001b[39mSYMBOL\u001b[39m\u001b[39m\"\u001b[39m, snps, snpnames, path)\n\u001b[1;32m      9\u001b[0m save_crossTabIt(\u001b[39m\"\u001b[39m\u001b[39mSIFTprediction\u001b[39m\u001b[39m\"\u001b[39m, \u001b[39m\"\u001b[39m\u001b[39mFeature_type\u001b[39m\u001b[39m\"\u001b[39m, snps, snpnames, path)\n",
      "File \u001b[1;32m/Users/mariapalafox/Desktop/BOLDcaution/WGS/5-annotation/3-interpret/2_summarize_cleaned_vep_output.py:15\u001b[0m\n\u001b[1;32m     13\u001b[0m     x1, s1 \u001b[39m=\u001b[39m save_crosstabit_sheet(df, col1, col2, \u001b[39mTrue\u001b[39;00m)\n\u001b[1;32m     14\u001b[0m     \u001b[39mwith\u001b[39;00m pd\u001b[39m.\u001b[39mExcelWriter(output) \u001b[39mas\u001b[39;00m writer:\n\u001b[0;32m---> 15\u001b[0m         x1\u001b[39m.\u001b[39mto_excel(writer, sheet_name \u001b[39m=\u001b[39m s1)\n\u001b[1;32m     16\u001b[0m \u001b[39mprint\u001b[39m(\u001b[39m'\u001b[39m\u001b[39mdone saving multi-sheet excel : \u001b[39m\u001b[39m'\u001b[39m,  output)\n",
      "File \u001b[0;32m~/anaconda3/envs/py39/lib/python3.9/site-packages/pandas/io/excel/_base.py:1353\u001b[0m, in \u001b[0;36mExcelWriter.__exit__\u001b[0;34m(self, exc_type, exc_value, traceback)\u001b[0m\n\u001b[1;32m   1347\u001b[0m \u001b[39mdef\u001b[39;00m \u001b[39m__exit__\u001b[39m(\n\u001b[1;32m   1348\u001b[0m     \u001b[39mself\u001b[39m,\n\u001b[1;32m   1349\u001b[0m     exc_type: \u001b[39mtype\u001b[39m[\u001b[39mBaseException\u001b[39;00m] \u001b[39m|\u001b[39m \u001b[39mNone\u001b[39;00m,\n\u001b[1;32m   1350\u001b[0m     exc_value: \u001b[39mBaseException\u001b[39;00m \u001b[39m|\u001b[39m \u001b[39mNone\u001b[39;00m,\n\u001b[1;32m   1351\u001b[0m     traceback: TracebackType \u001b[39m|\u001b[39m \u001b[39mNone\u001b[39;00m,\n\u001b[1;32m   1352\u001b[0m ) \u001b[39m-\u001b[39m\u001b[39m>\u001b[39m \u001b[39mNone\u001b[39;00m:\n\u001b[0;32m-> 1353\u001b[0m     \u001b[39mself\u001b[39;49m\u001b[39m.\u001b[39;49mclose()\n",
      "File \u001b[0;32m~/anaconda3/envs/py39/lib/python3.9/site-packages/pandas/io/excel/_base.py:1357\u001b[0m, in \u001b[0;36mExcelWriter.close\u001b[0;34m(self)\u001b[0m\n\u001b[1;32m   1355\u001b[0m \u001b[39mdef\u001b[39;00m \u001b[39mclose\u001b[39m(\u001b[39mself\u001b[39m) \u001b[39m-\u001b[39m\u001b[39m>\u001b[39m \u001b[39mNone\u001b[39;00m:\n\u001b[1;32m   1356\u001b[0m \u001b[39m    \u001b[39m\u001b[39m\"\"\"synonym for save, to make it more file-like\"\"\"\u001b[39;00m\n\u001b[0;32m-> 1357\u001b[0m     \u001b[39mself\u001b[39;49m\u001b[39m.\u001b[39;49m_save()\n\u001b[1;32m   1358\u001b[0m     \u001b[39mself\u001b[39m\u001b[39m.\u001b[39m_handles\u001b[39m.\u001b[39mclose()\n",
      "File \u001b[0;32m~/anaconda3/envs/py39/lib/python3.9/site-packages/pandas/io/excel/_openpyxl.py:110\u001b[0m, in \u001b[0;36mOpenpyxlWriter._save\u001b[0;34m(self)\u001b[0m\n\u001b[1;32m    106\u001b[0m \u001b[39mdef\u001b[39;00m \u001b[39m_save\u001b[39m(\u001b[39mself\u001b[39m) \u001b[39m-\u001b[39m\u001b[39m>\u001b[39m \u001b[39mNone\u001b[39;00m:\n\u001b[1;32m    107\u001b[0m \u001b[39m    \u001b[39m\u001b[39m\"\"\"\u001b[39;00m\n\u001b[1;32m    108\u001b[0m \u001b[39m    Save workbook to disk.\u001b[39;00m\n\u001b[1;32m    109\u001b[0m \u001b[39m    \"\"\"\u001b[39;00m\n\u001b[0;32m--> 110\u001b[0m     \u001b[39mself\u001b[39;49m\u001b[39m.\u001b[39;49mbook\u001b[39m.\u001b[39;49msave(\u001b[39mself\u001b[39;49m\u001b[39m.\u001b[39;49m_handles\u001b[39m.\u001b[39;49mhandle)\n\u001b[1;32m    111\u001b[0m     \u001b[39mif\u001b[39;00m \u001b[39m\"\u001b[39m\u001b[39mr+\u001b[39m\u001b[39m\"\u001b[39m \u001b[39min\u001b[39;00m \u001b[39mself\u001b[39m\u001b[39m.\u001b[39m_mode \u001b[39mand\u001b[39;00m \u001b[39mnot\u001b[39;00m \u001b[39misinstance\u001b[39m(\u001b[39mself\u001b[39m\u001b[39m.\u001b[39m_handles\u001b[39m.\u001b[39mhandle, mmap\u001b[39m.\u001b[39mmmap):\n\u001b[1;32m    112\u001b[0m         \u001b[39m# truncate file to the written content\u001b[39;00m\n\u001b[1;32m    113\u001b[0m         \u001b[39mself\u001b[39m\u001b[39m.\u001b[39m_handles\u001b[39m.\u001b[39mhandle\u001b[39m.\u001b[39mtruncate()\n",
      "File \u001b[0;32m~/anaconda3/envs/py39/lib/python3.9/site-packages/openpyxl/workbook/workbook.py:386\u001b[0m, in \u001b[0;36mWorkbook.save\u001b[0;34m(self, filename)\u001b[0m\n\u001b[1;32m    384\u001b[0m \u001b[39mif\u001b[39;00m \u001b[39mself\u001b[39m\u001b[39m.\u001b[39mwrite_only \u001b[39mand\u001b[39;00m \u001b[39mnot\u001b[39;00m \u001b[39mself\u001b[39m\u001b[39m.\u001b[39mworksheets:\n\u001b[1;32m    385\u001b[0m     \u001b[39mself\u001b[39m\u001b[39m.\u001b[39mcreate_sheet()\n\u001b[0;32m--> 386\u001b[0m save_workbook(\u001b[39mself\u001b[39;49m, filename)\n",
      "File \u001b[0;32m~/anaconda3/envs/py39/lib/python3.9/site-packages/openpyxl/writer/excel.py:294\u001b[0m, in \u001b[0;36msave_workbook\u001b[0;34m(workbook, filename)\u001b[0m\n\u001b[1;32m    292\u001b[0m workbook\u001b[39m.\u001b[39mproperties\u001b[39m.\u001b[39mmodified \u001b[39m=\u001b[39m datetime\u001b[39m.\u001b[39mdatetime\u001b[39m.\u001b[39mutcnow()\n\u001b[1;32m    293\u001b[0m writer \u001b[39m=\u001b[39m ExcelWriter(workbook, archive)\n\u001b[0;32m--> 294\u001b[0m writer\u001b[39m.\u001b[39;49msave()\n\u001b[1;32m    295\u001b[0m \u001b[39mreturn\u001b[39;00m \u001b[39mTrue\u001b[39;00m\n",
      "File \u001b[0;32m~/anaconda3/envs/py39/lib/python3.9/site-packages/openpyxl/writer/excel.py:275\u001b[0m, in \u001b[0;36mExcelWriter.save\u001b[0;34m(self)\u001b[0m\n\u001b[1;32m    273\u001b[0m \u001b[39mdef\u001b[39;00m \u001b[39msave\u001b[39m(\u001b[39mself\u001b[39m):\n\u001b[1;32m    274\u001b[0m \u001b[39m    \u001b[39m\u001b[39m\"\"\"Write data into the archive.\"\"\"\u001b[39;00m\n\u001b[0;32m--> 275\u001b[0m     \u001b[39mself\u001b[39;49m\u001b[39m.\u001b[39;49mwrite_data()\n\u001b[1;32m    276\u001b[0m     \u001b[39mself\u001b[39m\u001b[39m.\u001b[39m_archive\u001b[39m.\u001b[39mclose()\n",
      "File \u001b[0;32m~/anaconda3/envs/py39/lib/python3.9/site-packages/openpyxl/writer/excel.py:89\u001b[0m, in \u001b[0;36mExcelWriter.write_data\u001b[0;34m(self)\u001b[0m\n\u001b[1;32m     87\u001b[0m writer \u001b[39m=\u001b[39m WorkbookWriter(\u001b[39mself\u001b[39m\u001b[39m.\u001b[39mworkbook)\n\u001b[1;32m     88\u001b[0m archive\u001b[39m.\u001b[39mwritestr(ARC_ROOT_RELS, writer\u001b[39m.\u001b[39mwrite_root_rels())\n\u001b[0;32m---> 89\u001b[0m archive\u001b[39m.\u001b[39mwritestr(ARC_WORKBOOK, writer\u001b[39m.\u001b[39;49mwrite())\n\u001b[1;32m     90\u001b[0m archive\u001b[39m.\u001b[39mwritestr(ARC_WORKBOOK_RELS, writer\u001b[39m.\u001b[39mwrite_rels())\n\u001b[1;32m     92\u001b[0m \u001b[39mself\u001b[39m\u001b[39m.\u001b[39m_merge_vba()\n",
      "File \u001b[0;32m~/anaconda3/envs/py39/lib/python3.9/site-packages/openpyxl/workbook/_writer.py:150\u001b[0m, in \u001b[0;36mWorkbookWriter.write\u001b[0;34m(self)\u001b[0m\n\u001b[1;32m    148\u001b[0m \u001b[39mself\u001b[39m\u001b[39m.\u001b[39mwrite_names()\n\u001b[1;32m    149\u001b[0m \u001b[39mself\u001b[39m\u001b[39m.\u001b[39mwrite_pivots()\n\u001b[0;32m--> 150\u001b[0m \u001b[39mself\u001b[39;49m\u001b[39m.\u001b[39;49mwrite_views()\n\u001b[1;32m    151\u001b[0m \u001b[39mself\u001b[39m\u001b[39m.\u001b[39mwrite_refs()\n\u001b[1;32m    153\u001b[0m \u001b[39mreturn\u001b[39;00m tostring(\u001b[39mself\u001b[39m\u001b[39m.\u001b[39mpackage\u001b[39m.\u001b[39mto_tree())\n",
      "File \u001b[0;32m~/anaconda3/envs/py39/lib/python3.9/site-packages/openpyxl/workbook/_writer.py:137\u001b[0m, in \u001b[0;36mWorkbookWriter.write_views\u001b[0;34m(self)\u001b[0m\n\u001b[1;32m    136\u001b[0m \u001b[39mdef\u001b[39;00m \u001b[39mwrite_views\u001b[39m(\u001b[39mself\u001b[39m):\n\u001b[0;32m--> 137\u001b[0m     active \u001b[39m=\u001b[39m get_active_sheet(\u001b[39mself\u001b[39;49m\u001b[39m.\u001b[39;49mwb)\n\u001b[1;32m    138\u001b[0m     \u001b[39mif\u001b[39;00m \u001b[39mself\u001b[39m\u001b[39m.\u001b[39mwb\u001b[39m.\u001b[39mviews:\n\u001b[1;32m    139\u001b[0m         \u001b[39mself\u001b[39m\u001b[39m.\u001b[39mwb\u001b[39m.\u001b[39mviews[\u001b[39m0\u001b[39m]\u001b[39m.\u001b[39mactiveTab \u001b[39m=\u001b[39m active\n",
      "File \u001b[0;32m~/anaconda3/envs/py39/lib/python3.9/site-packages/openpyxl/workbook/_writer.py:35\u001b[0m, in \u001b[0;36mget_active_sheet\u001b[0;34m(wb)\u001b[0m\n\u001b[1;32m     33\u001b[0m visible_sheets \u001b[39m=\u001b[39m [idx \u001b[39mfor\u001b[39;00m idx, sheet \u001b[39min\u001b[39;00m \u001b[39menumerate\u001b[39m(wb\u001b[39m.\u001b[39m_sheets) \u001b[39mif\u001b[39;00m sheet\u001b[39m.\u001b[39msheet_state \u001b[39m==\u001b[39m \u001b[39m\"\u001b[39m\u001b[39mvisible\u001b[39m\u001b[39m\"\u001b[39m]\n\u001b[1;32m     34\u001b[0m \u001b[39mif\u001b[39;00m \u001b[39mnot\u001b[39;00m visible_sheets:\n\u001b[0;32m---> 35\u001b[0m     \u001b[39mraise\u001b[39;00m \u001b[39mIndexError\u001b[39;00m(\u001b[39m\"\u001b[39m\u001b[39mAt least one sheet must be visible\u001b[39m\u001b[39m\"\u001b[39m)\n\u001b[1;32m     37\u001b[0m idx \u001b[39m=\u001b[39m wb\u001b[39m.\u001b[39m_active_sheet_index\n\u001b[1;32m     38\u001b[0m sheet \u001b[39m=\u001b[39m wb\u001b[39m.\u001b[39mactive\n",
      "\u001b[0;31mIndexError\u001b[0m: At least one sheet must be visible"
     ]
    }
   ],
   "source": [
    "# %%\n",
    "\n",
    "# #snp only\n",
    "save_crossTabIt(\"SIFTprediction\", \"ZYG\", snps, snpnames, path)\n",
    "save_crossTabIt(\"PolyPhenprediction\", \"ZYG\", snps, snpnames, path)\n",
    "save_crossTabIt(\"SIFTprediction\", \"Consequence\", snps, snpnames, path)\n",
    "save_crossTabIt(\"PolyPhenprediction\", \"Consequence\", snps, snpnames, path)\n",
    "save_crossTabIt(\"SIFTprediction\", \"SYMBOL\", snps, snpnames, path)\n",
    "save_crossTabIt(\"PolyPhenprediction\", \"SYMBOL\", snps, snpnames, path)\n",
    "save_crossTabIt(\"SIFTprediction\", \"Feature_type\", snps, snpnames, path)\n",
    "save_crossTabIt(\"PolyPhenprediction\", \"Feature_type\", snps, snpnames, path)\n",
    "save_crossTabIt(\"SIFTprediction\", \"IMPACT\", snps, snpnames, path)\n",
    "save_crossTabIt(\"PolyPhenprediction\", \"IMPACT\", snps, snpnames, path)\n",
    "save_crossTabIt(\"SIFTprediction\", \"CLIN_SIG\", snps, snpnames, path)\n",
    "save_crossTabIt(\"PolyPhenprediction\", \"CLIN_SIG\", snps, snpnames, path)"
   ]
  },
  {
   "cell_type": "code",
   "execution_count": null,
   "id": "cc49196e-242b-4584-a629-399517f152b4",
   "metadata": {},
   "outputs": [],
   "source": [
    "# %%\n",
    "\n",
    "def save_crossTabIt(col1, col2, dfs, dfnames, PATH):\n",
    "    # funx to save crosstab of columns in a sheet of an excel\n",
    "    # col1: column name\n",
    "    # col2: column name\n",
    "    # dfs: list of dataframes\n",
    "    # dfnames: list of names of dataframes\n",
    "    output =  PATH + 'crossTabIt-' + col1 + '-' + col2 + '.xlsx'\n",
    "    with pd.ExcelWriter(output) as writer:\n",
    "        for x, df in enumerate(dfs):\n",
    "            dfname = dfnames[x]\n",
    "            print(dfname)\n",
    "            # function call\n",
    "            x1, s1 = save_crosstabit_sheet(df, col1, col2, True)\n",
    "            x1.to_excel(writer, sheet_name = s1)\n",
    "    print('done saving multi-sheet excel : ',  output)"
   ]
  },
  {
   "cell_type": "code",
   "execution_count": null,
   "id": "54b8eb22-63be-42ed-a8fd-ca08028952db",
   "metadata": {},
   "outputs": [
    {
     "name": "stdout",
     "output_type": "stream",
     "text": [
      "indel12\n",
      "indel63\n",
      "snp12\n",
      "snp63\n",
      "done saving multi-sheet excel :  /Users/mariapalafox/Desktop/BOLDcaution/WGS/5-annotation/3-interpret/2-summarize-v4/crossTabIt-CLIN_SIG-ZYG.xlsx\n"
     ]
    }
   ],
   "source": [
    "# %%\n",
    "\n",
    "# cross tab\n",
    "# be consistent with order of sift and polyphen\n",
    "# add feature_type\n",
    "save_crossTabIt(\"CLIN_SIG\", \"ZYG\", dfs, dfnames, path)"
   ]
  },
  {
   "cell_type": "code",
   "execution_count": null,
   "id": "13c1009c-e25b-4b73-a88c-6faef0938f1c",
   "metadata": {},
   "outputs": [],
   "source": [
    "# %%\n",
    "\n",
    "def save_crossTabIt(col1, col2, dfs, dfnames, PATH):\n",
    "    # funx to save crosstab of columns in a sheet of an excel\n",
    "    # col1: column name\n",
    "    # col2: column name\n",
    "    # dfs: list of dataframes\n",
    "    # dfnames: list of names of dataframes\n",
    "    output =  PATH + 'crossTabIt-' + col1 + '-' + col2 + '.xlsx'\n",
    "    with pd.ExcelWriter(output) as writer:\n",
    "        for x, df in enumerate(dfs):\n",
    "            dfname = dfnames[x]\n",
    "            print(dfname)\n",
    "            # function call\n",
    "            x1, s1 = save_crosstabit_sheet(df, col1, col2, True)\n",
    "            x1.to_excel(writer, sheet_name = dfname)\n",
    "    print('done saving multi-sheet excel : ',  output)"
   ]
  },
  {
   "cell_type": "code",
   "execution_count": null,
   "id": "b2cab6f1-1bc8-410e-9b07-d483b417bc46",
   "metadata": {},
   "outputs": [
    {
     "name": "stdout",
     "output_type": "stream",
     "text": [
      "indel12\n",
      "indel63\n",
      "snp12\n",
      "snp63\n",
      "done saving multi-sheet excel :  /Users/mariapalafox/Desktop/BOLDcaution/WGS/5-annotation/3-interpret/2-summarize-v4/crossTabIt-CLIN_SIG-ZYG.xlsx\n"
     ]
    }
   ],
   "source": [
    "# %%\n",
    "\n",
    "# cross tab\n",
    "# be consistent with order of sift and polyphen\n",
    "# add feature_type\n",
    "save_crossTabIt(\"CLIN_SIG\", \"ZYG\", dfs, dfnames, path)"
   ]
  },
  {
   "cell_type": "code",
   "execution_count": null,
   "id": "32aedd27-d431-4d01-848a-0e8ecacd2339",
   "metadata": {},
   "outputs": [
    {
     "name": "stdout",
     "output_type": "stream",
     "text": [
      "indel12\n",
      "indel63\n",
      "snp12\n",
      "snp63\n",
      "done saving multi-sheet excel :  /Users/mariapalafox/Desktop/BOLDcaution/WGS/5-annotation/3-interpret/2-summarize-v4/crossTabIt-CLIN_SIG-ZYG.xlsx\n",
      "indel12\n",
      "indel63\n",
      "snp12\n",
      "snp63\n",
      "done saving multi-sheet excel :  /Users/mariapalafox/Desktop/BOLDcaution/WGS/5-annotation/3-interpret/2-summarize-v4/crossTabIt-IMPACT-ZYG.xlsx\n",
      "indel12\n",
      "indel63\n",
      "snp12\n",
      "snp63\n",
      "done saving multi-sheet excel :  /Users/mariapalafox/Desktop/BOLDcaution/WGS/5-annotation/3-interpret/2-summarize-v4/crossTabIt-Consequence-ZYG.xlsx\n",
      "indel12\n",
      "indel63\n",
      "snp12\n",
      "snp63\n",
      "done saving multi-sheet excel :  /Users/mariapalafox/Desktop/BOLDcaution/WGS/5-annotation/3-interpret/2-summarize-v4/crossTabIt-Consequence-IMPACT.xlsx\n",
      "indel12\n",
      "indel63\n",
      "snp12\n",
      "snp63\n",
      "done saving multi-sheet excel :  /Users/mariapalafox/Desktop/BOLDcaution/WGS/5-annotation/3-interpret/2-summarize-v4/crossTabIt-SYMBOL-IMPACT.xlsx\n",
      "indel12\n",
      "indel63\n",
      "snp12\n",
      "snp63\n",
      "done saving multi-sheet excel :  /Users/mariapalafox/Desktop/BOLDcaution/WGS/5-annotation/3-interpret/2-summarize-v4/crossTabIt-SYMBOL-Consequence.xlsx\n",
      "snp12\n",
      "snp63\n",
      "done saving multi-sheet excel :  /Users/mariapalafox/Desktop/BOLDcaution/WGS/5-annotation/3-interpret/2-summarize-v4/crossTabIt-SIFTprediction-ZYG.xlsx\n",
      "snp12\n",
      "snp63\n",
      "done saving multi-sheet excel :  /Users/mariapalafox/Desktop/BOLDcaution/WGS/5-annotation/3-interpret/2-summarize-v4/crossTabIt-PolyPhenprediction-ZYG.xlsx\n",
      "snp12\n",
      "snp63\n",
      "done saving multi-sheet excel :  /Users/mariapalafox/Desktop/BOLDcaution/WGS/5-annotation/3-interpret/2-summarize-v4/crossTabIt-SIFTprediction-Consequence.xlsx\n",
      "snp12\n",
      "snp63\n",
      "done saving multi-sheet excel :  /Users/mariapalafox/Desktop/BOLDcaution/WGS/5-annotation/3-interpret/2-summarize-v4/crossTabIt-PolyPhenprediction-Consequence.xlsx\n",
      "snp12\n"
     ]
    },
    {
     "ename": "IndexError",
     "evalue": "At least one sheet must be visible",
     "output_type": "error",
     "traceback": [
      "\u001b[0;31m---------------------------------------------------------------------------\u001b[0m",
      "\u001b[0;31mValueError\u001b[0m                                Traceback (most recent call last)",
      "File \u001b[1;32m/Users/mariapalafox/Desktop/BOLDcaution/WGS/5-annotation/3-interpret/2_summarize_cleaned_vep_output.py:15\u001b[0m\n\u001b[1;32m     14\u001b[0m         x1, s1 \u001b[39m=\u001b[39m save_crosstabit_sheet(df, col1, col2, \u001b[39mTrue\u001b[39;00m)\n\u001b[0;32m---> 15\u001b[0m         x1\u001b[39m.\u001b[39;49mto_excel(writer, sheet_name \u001b[39m=\u001b[39;49m dfname)\n\u001b[1;32m     16\u001b[0m \u001b[39mprint\u001b[39m(\u001b[39m'\u001b[39m\u001b[39mdone saving multi-sheet excel : \u001b[39m\u001b[39m'\u001b[39m,  output)\n",
      "File \u001b[0;32m~/anaconda3/envs/py39/lib/python3.9/site-packages/pandas/util/_decorators.py:333\u001b[0m, in \u001b[0;36mdeprecate_nonkeyword_arguments.<locals>.decorate.<locals>.wrapper\u001b[0;34m(*args, **kwargs)\u001b[0m\n\u001b[1;32m    328\u001b[0m     warnings\u001b[39m.\u001b[39mwarn(\n\u001b[1;32m    329\u001b[0m         msg\u001b[39m.\u001b[39mformat(arguments\u001b[39m=\u001b[39m_format_argument_list(allow_args)),\n\u001b[1;32m    330\u001b[0m         \u001b[39mFutureWarning\u001b[39;00m,\n\u001b[1;32m    331\u001b[0m         stacklevel\u001b[39m=\u001b[39mfind_stack_level(),\n\u001b[1;32m    332\u001b[0m     )\n\u001b[0;32m--> 333\u001b[0m \u001b[39mreturn\u001b[39;00m func(\u001b[39m*\u001b[39;49margs, \u001b[39m*\u001b[39;49m\u001b[39m*\u001b[39;49mkwargs)\n",
      "File \u001b[0;32m~/anaconda3/envs/py39/lib/python3.9/site-packages/pandas/core/generic.py:2417\u001b[0m, in \u001b[0;36mNDFrame.to_excel\u001b[0;34m(self, excel_writer, sheet_name, na_rep, float_format, columns, header, index, index_label, startrow, startcol, engine, merge_cells, inf_rep, freeze_panes, storage_options, engine_kwargs)\u001b[0m\n\u001b[1;32m   2406\u001b[0m formatter \u001b[39m=\u001b[39m ExcelFormatter(\n\u001b[1;32m   2407\u001b[0m     df,\n\u001b[1;32m   2408\u001b[0m     na_rep\u001b[39m=\u001b[39mna_rep,\n\u001b[0;32m   (...)\u001b[0m\n\u001b[1;32m   2415\u001b[0m     inf_rep\u001b[39m=\u001b[39minf_rep,\n\u001b[1;32m   2416\u001b[0m )\n\u001b[0;32m-> 2417\u001b[0m formatter\u001b[39m.\u001b[39;49mwrite(\n\u001b[1;32m   2418\u001b[0m     excel_writer,\n\u001b[1;32m   2419\u001b[0m     sheet_name\u001b[39m=\u001b[39;49msheet_name,\n\u001b[1;32m   2420\u001b[0m     startrow\u001b[39m=\u001b[39;49mstartrow,\n\u001b[1;32m   2421\u001b[0m     startcol\u001b[39m=\u001b[39;49mstartcol,\n\u001b[1;32m   2422\u001b[0m     freeze_panes\u001b[39m=\u001b[39;49mfreeze_panes,\n\u001b[1;32m   2423\u001b[0m     engine\u001b[39m=\u001b[39;49mengine,\n\u001b[1;32m   2424\u001b[0m     storage_options\u001b[39m=\u001b[39;49mstorage_options,\n\u001b[1;32m   2425\u001b[0m     engine_kwargs\u001b[39m=\u001b[39;49mengine_kwargs,\n\u001b[1;32m   2426\u001b[0m )\n",
      "File \u001b[0;32m~/anaconda3/envs/py39/lib/python3.9/site-packages/pandas/io/formats/excel.py:931\u001b[0m, in \u001b[0;36mExcelFormatter.write\u001b[0;34m(self, writer, sheet_name, startrow, startcol, freeze_panes, engine, storage_options, engine_kwargs)\u001b[0m\n\u001b[1;32m    930\u001b[0m \u001b[39mif\u001b[39;00m num_rows \u001b[39m>\u001b[39m \u001b[39mself\u001b[39m\u001b[39m.\u001b[39mmax_rows \u001b[39mor\u001b[39;00m num_cols \u001b[39m>\u001b[39m \u001b[39mself\u001b[39m\u001b[39m.\u001b[39mmax_cols:\n\u001b[0;32m--> 931\u001b[0m     \u001b[39mraise\u001b[39;00m \u001b[39mValueError\u001b[39;00m(\n\u001b[1;32m    932\u001b[0m         \u001b[39mf\u001b[39m\u001b[39m\"\u001b[39m\u001b[39mThis sheet is too large! Your sheet size is: \u001b[39m\u001b[39m{\u001b[39;00mnum_rows\u001b[39m}\u001b[39;00m\u001b[39m, \u001b[39m\u001b[39m{\u001b[39;00mnum_cols\u001b[39m}\u001b[39;00m\u001b[39m \u001b[39m\u001b[39m\"\u001b[39m\n\u001b[1;32m    933\u001b[0m         \u001b[39mf\u001b[39m\u001b[39m\"\u001b[39m\u001b[39mMax sheet size is: \u001b[39m\u001b[39m{\u001b[39;00m\u001b[39mself\u001b[39m\u001b[39m.\u001b[39mmax_rows\u001b[39m}\u001b[39;00m\u001b[39m, \u001b[39m\u001b[39m{\u001b[39;00m\u001b[39mself\u001b[39m\u001b[39m.\u001b[39mmax_cols\u001b[39m}\u001b[39;00m\u001b[39m\"\u001b[39m\n\u001b[1;32m    934\u001b[0m     )\n\u001b[1;32m    936\u001b[0m \u001b[39mif\u001b[39;00m engine_kwargs \u001b[39mis\u001b[39;00m \u001b[39mNone\u001b[39;00m:\n",
      "\u001b[0;31mValueError\u001b[0m: This sheet is too large! Your sheet size is: 6, 28321 Max sheet size is: 1048576, 16384",
      "\nDuring handling of the above exception, another exception occurred:\n",
      "\u001b[0;31mIndexError\u001b[0m                                Traceback (most recent call last)",
      "File \u001b[1;32m/Users/mariapalafox/Desktop/BOLDcaution/WGS/5-annotation/3-interpret/2_summarize_cleaned_vep_output.py:17\u001b[0m\n\u001b[1;32m     15\u001b[0m save_crossTabIt(\u001b[39m\"\u001b[39m\u001b[39mSIFTprediction\u001b[39m\u001b[39m\"\u001b[39m, \u001b[39m\"\u001b[39m\u001b[39mConsequence\u001b[39m\u001b[39m\"\u001b[39m, snps, snpnames, path)\n\u001b[1;32m     16\u001b[0m save_crossTabIt(\u001b[39m\"\u001b[39m\u001b[39mPolyPhenprediction\u001b[39m\u001b[39m\"\u001b[39m, \u001b[39m\"\u001b[39m\u001b[39mConsequence\u001b[39m\u001b[39m\"\u001b[39m, snps, snpnames, path)\n\u001b[0;32m---> 17\u001b[0m save_crossTabIt(\u001b[39m\"\u001b[39;49m\u001b[39mSIFTprediction\u001b[39;49m\u001b[39m\"\u001b[39;49m, \u001b[39m\"\u001b[39;49m\u001b[39mSYMBOL\u001b[39;49m\u001b[39m\"\u001b[39;49m, snps, snpnames, path)\n\u001b[1;32m     18\u001b[0m save_crossTabIt(\u001b[39m\"\u001b[39m\u001b[39mPolyPhenprediction\u001b[39m\u001b[39m\"\u001b[39m, \u001b[39m\"\u001b[39m\u001b[39mSYMBOL\u001b[39m\u001b[39m\"\u001b[39m, snps, snpnames, path)\n\u001b[1;32m     19\u001b[0m save_crossTabIt(\u001b[39m\"\u001b[39m\u001b[39mSIFTprediction\u001b[39m\u001b[39m\"\u001b[39m, \u001b[39m\"\u001b[39m\u001b[39mFeature_type\u001b[39m\u001b[39m\"\u001b[39m, snps, snpnames, path)\n",
      "File \u001b[1;32m/Users/mariapalafox/Desktop/BOLDcaution/WGS/5-annotation/3-interpret/2_summarize_cleaned_vep_output.py:15\u001b[0m\n\u001b[1;32m     13\u001b[0m         \u001b[39m# function call\u001b[39;00m\n\u001b[1;32m     14\u001b[0m         x1, s1 \u001b[39m=\u001b[39m save_crosstabit_sheet(df, col1, col2, \u001b[39mTrue\u001b[39;00m)\n\u001b[0;32m---> 15\u001b[0m         x1\u001b[39m.\u001b[39mto_excel(writer, sheet_name \u001b[39m=\u001b[39m dfname)\n\u001b[1;32m     16\u001b[0m \u001b[39mprint\u001b[39m(\u001b[39m'\u001b[39m\u001b[39mdone saving multi-sheet excel : \u001b[39m\u001b[39m'\u001b[39m,  output)\n",
      "File \u001b[0;32m~/anaconda3/envs/py39/lib/python3.9/site-packages/pandas/io/excel/_base.py:1353\u001b[0m, in \u001b[0;36mExcelWriter.__exit__\u001b[0;34m(self, exc_type, exc_value, traceback)\u001b[0m\n\u001b[1;32m   1347\u001b[0m \u001b[39mdef\u001b[39;00m \u001b[39m__exit__\u001b[39m(\n\u001b[1;32m   1348\u001b[0m     \u001b[39mself\u001b[39m,\n\u001b[1;32m   1349\u001b[0m     exc_type: \u001b[39mtype\u001b[39m[\u001b[39mBaseException\u001b[39;00m] \u001b[39m|\u001b[39m \u001b[39mNone\u001b[39;00m,\n\u001b[1;32m   1350\u001b[0m     exc_value: \u001b[39mBaseException\u001b[39;00m \u001b[39m|\u001b[39m \u001b[39mNone\u001b[39;00m,\n\u001b[1;32m   1351\u001b[0m     traceback: TracebackType \u001b[39m|\u001b[39m \u001b[39mNone\u001b[39;00m,\n\u001b[1;32m   1352\u001b[0m ) \u001b[39m-\u001b[39m\u001b[39m>\u001b[39m \u001b[39mNone\u001b[39;00m:\n\u001b[0;32m-> 1353\u001b[0m     \u001b[39mself\u001b[39;49m\u001b[39m.\u001b[39;49mclose()\n",
      "File \u001b[0;32m~/anaconda3/envs/py39/lib/python3.9/site-packages/pandas/io/excel/_base.py:1357\u001b[0m, in \u001b[0;36mExcelWriter.close\u001b[0;34m(self)\u001b[0m\n\u001b[1;32m   1355\u001b[0m \u001b[39mdef\u001b[39;00m \u001b[39mclose\u001b[39m(\u001b[39mself\u001b[39m) \u001b[39m-\u001b[39m\u001b[39m>\u001b[39m \u001b[39mNone\u001b[39;00m:\n\u001b[1;32m   1356\u001b[0m \u001b[39m    \u001b[39m\u001b[39m\"\"\"synonym for save, to make it more file-like\"\"\"\u001b[39;00m\n\u001b[0;32m-> 1357\u001b[0m     \u001b[39mself\u001b[39;49m\u001b[39m.\u001b[39;49m_save()\n\u001b[1;32m   1358\u001b[0m     \u001b[39mself\u001b[39m\u001b[39m.\u001b[39m_handles\u001b[39m.\u001b[39mclose()\n",
      "File \u001b[0;32m~/anaconda3/envs/py39/lib/python3.9/site-packages/pandas/io/excel/_openpyxl.py:110\u001b[0m, in \u001b[0;36mOpenpyxlWriter._save\u001b[0;34m(self)\u001b[0m\n\u001b[1;32m    106\u001b[0m \u001b[39mdef\u001b[39;00m \u001b[39m_save\u001b[39m(\u001b[39mself\u001b[39m) \u001b[39m-\u001b[39m\u001b[39m>\u001b[39m \u001b[39mNone\u001b[39;00m:\n\u001b[1;32m    107\u001b[0m \u001b[39m    \u001b[39m\u001b[39m\"\"\"\u001b[39;00m\n\u001b[1;32m    108\u001b[0m \u001b[39m    Save workbook to disk.\u001b[39;00m\n\u001b[1;32m    109\u001b[0m \u001b[39m    \"\"\"\u001b[39;00m\n\u001b[0;32m--> 110\u001b[0m     \u001b[39mself\u001b[39;49m\u001b[39m.\u001b[39;49mbook\u001b[39m.\u001b[39;49msave(\u001b[39mself\u001b[39;49m\u001b[39m.\u001b[39;49m_handles\u001b[39m.\u001b[39;49mhandle)\n\u001b[1;32m    111\u001b[0m     \u001b[39mif\u001b[39;00m \u001b[39m\"\u001b[39m\u001b[39mr+\u001b[39m\u001b[39m\"\u001b[39m \u001b[39min\u001b[39;00m \u001b[39mself\u001b[39m\u001b[39m.\u001b[39m_mode \u001b[39mand\u001b[39;00m \u001b[39mnot\u001b[39;00m \u001b[39misinstance\u001b[39m(\u001b[39mself\u001b[39m\u001b[39m.\u001b[39m_handles\u001b[39m.\u001b[39mhandle, mmap\u001b[39m.\u001b[39mmmap):\n\u001b[1;32m    112\u001b[0m         \u001b[39m# truncate file to the written content\u001b[39;00m\n\u001b[1;32m    113\u001b[0m         \u001b[39mself\u001b[39m\u001b[39m.\u001b[39m_handles\u001b[39m.\u001b[39mhandle\u001b[39m.\u001b[39mtruncate()\n",
      "File \u001b[0;32m~/anaconda3/envs/py39/lib/python3.9/site-packages/openpyxl/workbook/workbook.py:386\u001b[0m, in \u001b[0;36mWorkbook.save\u001b[0;34m(self, filename)\u001b[0m\n\u001b[1;32m    384\u001b[0m \u001b[39mif\u001b[39;00m \u001b[39mself\u001b[39m\u001b[39m.\u001b[39mwrite_only \u001b[39mand\u001b[39;00m \u001b[39mnot\u001b[39;00m \u001b[39mself\u001b[39m\u001b[39m.\u001b[39mworksheets:\n\u001b[1;32m    385\u001b[0m     \u001b[39mself\u001b[39m\u001b[39m.\u001b[39mcreate_sheet()\n\u001b[0;32m--> 386\u001b[0m save_workbook(\u001b[39mself\u001b[39;49m, filename)\n",
      "File \u001b[0;32m~/anaconda3/envs/py39/lib/python3.9/site-packages/openpyxl/writer/excel.py:294\u001b[0m, in \u001b[0;36msave_workbook\u001b[0;34m(workbook, filename)\u001b[0m\n\u001b[1;32m    292\u001b[0m workbook\u001b[39m.\u001b[39mproperties\u001b[39m.\u001b[39mmodified \u001b[39m=\u001b[39m datetime\u001b[39m.\u001b[39mdatetime\u001b[39m.\u001b[39mutcnow()\n\u001b[1;32m    293\u001b[0m writer \u001b[39m=\u001b[39m ExcelWriter(workbook, archive)\n\u001b[0;32m--> 294\u001b[0m writer\u001b[39m.\u001b[39;49msave()\n\u001b[1;32m    295\u001b[0m \u001b[39mreturn\u001b[39;00m \u001b[39mTrue\u001b[39;00m\n",
      "File \u001b[0;32m~/anaconda3/envs/py39/lib/python3.9/site-packages/openpyxl/writer/excel.py:275\u001b[0m, in \u001b[0;36mExcelWriter.save\u001b[0;34m(self)\u001b[0m\n\u001b[1;32m    273\u001b[0m \u001b[39mdef\u001b[39;00m \u001b[39msave\u001b[39m(\u001b[39mself\u001b[39m):\n\u001b[1;32m    274\u001b[0m \u001b[39m    \u001b[39m\u001b[39m\"\"\"Write data into the archive.\"\"\"\u001b[39;00m\n\u001b[0;32m--> 275\u001b[0m     \u001b[39mself\u001b[39;49m\u001b[39m.\u001b[39;49mwrite_data()\n\u001b[1;32m    276\u001b[0m     \u001b[39mself\u001b[39m\u001b[39m.\u001b[39m_archive\u001b[39m.\u001b[39mclose()\n",
      "File \u001b[0;32m~/anaconda3/envs/py39/lib/python3.9/site-packages/openpyxl/writer/excel.py:89\u001b[0m, in \u001b[0;36mExcelWriter.write_data\u001b[0;34m(self)\u001b[0m\n\u001b[1;32m     87\u001b[0m writer \u001b[39m=\u001b[39m WorkbookWriter(\u001b[39mself\u001b[39m\u001b[39m.\u001b[39mworkbook)\n\u001b[1;32m     88\u001b[0m archive\u001b[39m.\u001b[39mwritestr(ARC_ROOT_RELS, writer\u001b[39m.\u001b[39mwrite_root_rels())\n\u001b[0;32m---> 89\u001b[0m archive\u001b[39m.\u001b[39mwritestr(ARC_WORKBOOK, writer\u001b[39m.\u001b[39;49mwrite())\n\u001b[1;32m     90\u001b[0m archive\u001b[39m.\u001b[39mwritestr(ARC_WORKBOOK_RELS, writer\u001b[39m.\u001b[39mwrite_rels())\n\u001b[1;32m     92\u001b[0m \u001b[39mself\u001b[39m\u001b[39m.\u001b[39m_merge_vba()\n",
      "File \u001b[0;32m~/anaconda3/envs/py39/lib/python3.9/site-packages/openpyxl/workbook/_writer.py:150\u001b[0m, in \u001b[0;36mWorkbookWriter.write\u001b[0;34m(self)\u001b[0m\n\u001b[1;32m    148\u001b[0m \u001b[39mself\u001b[39m\u001b[39m.\u001b[39mwrite_names()\n\u001b[1;32m    149\u001b[0m \u001b[39mself\u001b[39m\u001b[39m.\u001b[39mwrite_pivots()\n\u001b[0;32m--> 150\u001b[0m \u001b[39mself\u001b[39;49m\u001b[39m.\u001b[39;49mwrite_views()\n\u001b[1;32m    151\u001b[0m \u001b[39mself\u001b[39m\u001b[39m.\u001b[39mwrite_refs()\n\u001b[1;32m    153\u001b[0m \u001b[39mreturn\u001b[39;00m tostring(\u001b[39mself\u001b[39m\u001b[39m.\u001b[39mpackage\u001b[39m.\u001b[39mto_tree())\n",
      "File \u001b[0;32m~/anaconda3/envs/py39/lib/python3.9/site-packages/openpyxl/workbook/_writer.py:137\u001b[0m, in \u001b[0;36mWorkbookWriter.write_views\u001b[0;34m(self)\u001b[0m\n\u001b[1;32m    136\u001b[0m \u001b[39mdef\u001b[39;00m \u001b[39mwrite_views\u001b[39m(\u001b[39mself\u001b[39m):\n\u001b[0;32m--> 137\u001b[0m     active \u001b[39m=\u001b[39m get_active_sheet(\u001b[39mself\u001b[39;49m\u001b[39m.\u001b[39;49mwb)\n\u001b[1;32m    138\u001b[0m     \u001b[39mif\u001b[39;00m \u001b[39mself\u001b[39m\u001b[39m.\u001b[39mwb\u001b[39m.\u001b[39mviews:\n\u001b[1;32m    139\u001b[0m         \u001b[39mself\u001b[39m\u001b[39m.\u001b[39mwb\u001b[39m.\u001b[39mviews[\u001b[39m0\u001b[39m]\u001b[39m.\u001b[39mactiveTab \u001b[39m=\u001b[39m active\n",
      "File \u001b[0;32m~/anaconda3/envs/py39/lib/python3.9/site-packages/openpyxl/workbook/_writer.py:35\u001b[0m, in \u001b[0;36mget_active_sheet\u001b[0;34m(wb)\u001b[0m\n\u001b[1;32m     33\u001b[0m visible_sheets \u001b[39m=\u001b[39m [idx \u001b[39mfor\u001b[39;00m idx, sheet \u001b[39min\u001b[39;00m \u001b[39menumerate\u001b[39m(wb\u001b[39m.\u001b[39m_sheets) \u001b[39mif\u001b[39;00m sheet\u001b[39m.\u001b[39msheet_state \u001b[39m==\u001b[39m \u001b[39m\"\u001b[39m\u001b[39mvisible\u001b[39m\u001b[39m\"\u001b[39m]\n\u001b[1;32m     34\u001b[0m \u001b[39mif\u001b[39;00m \u001b[39mnot\u001b[39;00m visible_sheets:\n\u001b[0;32m---> 35\u001b[0m     \u001b[39mraise\u001b[39;00m \u001b[39mIndexError\u001b[39;00m(\u001b[39m\"\u001b[39m\u001b[39mAt least one sheet must be visible\u001b[39m\u001b[39m\"\u001b[39m)\n\u001b[1;32m     37\u001b[0m idx \u001b[39m=\u001b[39m wb\u001b[39m.\u001b[39m_active_sheet_index\n\u001b[1;32m     38\u001b[0m sheet \u001b[39m=\u001b[39m wb\u001b[39m.\u001b[39mactive\n",
      "\u001b[0;31mIndexError\u001b[0m: At least one sheet must be visible"
     ]
    }
   ],
   "source": [
    "# %%\n",
    "\n",
    "# cross tab\n",
    "# be consistent with order of sift and polyphen\n",
    "# add feature_type\n",
    "save_crossTabIt(\"CLIN_SIG\", \"ZYG\", dfs, dfnames, path)\n",
    "save_crossTabIt(\"IMPACT\", \"ZYG\", dfs, dfnames, path)\n",
    "save_crossTabIt(\"Consequence\", \"ZYG\", dfs, dfnames, path)\n",
    "save_crossTabIt(\"Consequence\", \"IMPACT\", dfs, dfnames, path)\n",
    "save_crossTabIt(\"SYMBOL\", \"IMPACT\", dfs, dfnames, path)\n",
    "save_crossTabIt(\"SYMBOL\", \"Consequence\", dfs, dfnames, path)\n",
    "\n",
    "# #snp only\n",
    "save_crossTabIt(\"SIFTprediction\", \"ZYG\", snps, snpnames, path)\n",
    "save_crossTabIt(\"PolyPhenprediction\", \"ZYG\", snps, snpnames, path)\n",
    "save_crossTabIt(\"SIFTprediction\", \"Consequence\", snps, snpnames, path)\n",
    "save_crossTabIt(\"PolyPhenprediction\", \"Consequence\", snps, snpnames, path)\n",
    "save_crossTabIt(\"SIFTprediction\", \"SYMBOL\", snps, snpnames, path)\n",
    "save_crossTabIt(\"PolyPhenprediction\", \"SYMBOL\", snps, snpnames, path)\n",
    "save_crossTabIt(\"SIFTprediction\", \"Feature_type\", snps, snpnames, path)\n",
    "save_crossTabIt(\"PolyPhenprediction\", \"Feature_type\", snps, snpnames, path)\n",
    "save_crossTabIt(\"SIFTprediction\", \"IMPACT\", snps, snpnames, path)\n",
    "save_crossTabIt(\"PolyPhenprediction\", \"IMPACT\", snps, snpnames, path)\n",
    "save_crossTabIt(\"SIFTprediction\", \"CLIN_SIG\", snps, snpnames, path)\n",
    "save_crossTabIt(\"PolyPhenprediction\", \"CLIN_SIG\", snps, snpnames, path)"
   ]
  },
  {
   "cell_type": "code",
   "execution_count": null,
   "id": "2ee30f56-6788-4c29-adc1-e53c490a5c69",
   "metadata": {},
   "outputs": [
    {
     "name": "stdout",
     "output_type": "stream",
     "text": [
      "snp12\n"
     ]
    },
    {
     "name": "stderr",
     "output_type": "stream",
     "text": [
      "Exception ignored in: <function ZipFile.__del__ at 0x7fea182a9dc0>\n",
      "Traceback (most recent call last):\n",
      "  File \"/Users/mariapalafox/anaconda3/envs/py39/lib/python3.9/zipfile.py\", line 1828, in __del__\n",
      "    self.close()\n",
      "  File \"/Users/mariapalafox/anaconda3/envs/py39/lib/python3.9/zipfile.py\", line 1845, in close\n",
      "    self.fp.seek(self.start_dir)\n",
      "ValueError: seek of closed file\n"
     ]
    },
    {
     "ename": "IndexError",
     "evalue": "At least one sheet must be visible",
     "output_type": "error",
     "traceback": [
      "\u001b[0;31m---------------------------------------------------------------------------\u001b[0m",
      "\u001b[0;31mValueError\u001b[0m                                Traceback (most recent call last)",
      "File \u001b[1;32m/Users/mariapalafox/Desktop/BOLDcaution/WGS/5-annotation/3-interpret/2_summarize_cleaned_vep_output.py:15\u001b[0m\n\u001b[1;32m     14\u001b[0m         x1, s1 \u001b[39m=\u001b[39m save_crosstabit_sheet(df, col1, col2, \u001b[39mTrue\u001b[39;00m)\n\u001b[0;32m---> 15\u001b[0m         x1\u001b[39m.\u001b[39;49mto_excel(writer, sheet_name \u001b[39m=\u001b[39;49m dfname)\n\u001b[1;32m     16\u001b[0m \u001b[39mprint\u001b[39m(\u001b[39m'\u001b[39m\u001b[39mdone saving multi-sheet excel : \u001b[39m\u001b[39m'\u001b[39m,  output)\n",
      "File \u001b[0;32m~/anaconda3/envs/py39/lib/python3.9/site-packages/pandas/util/_decorators.py:333\u001b[0m, in \u001b[0;36mdeprecate_nonkeyword_arguments.<locals>.decorate.<locals>.wrapper\u001b[0;34m(*args, **kwargs)\u001b[0m\n\u001b[1;32m    328\u001b[0m     warnings\u001b[39m.\u001b[39mwarn(\n\u001b[1;32m    329\u001b[0m         msg\u001b[39m.\u001b[39mformat(arguments\u001b[39m=\u001b[39m_format_argument_list(allow_args)),\n\u001b[1;32m    330\u001b[0m         \u001b[39mFutureWarning\u001b[39;00m,\n\u001b[1;32m    331\u001b[0m         stacklevel\u001b[39m=\u001b[39mfind_stack_level(),\n\u001b[1;32m    332\u001b[0m     )\n\u001b[0;32m--> 333\u001b[0m \u001b[39mreturn\u001b[39;00m func(\u001b[39m*\u001b[39;49margs, \u001b[39m*\u001b[39;49m\u001b[39m*\u001b[39;49mkwargs)\n",
      "File \u001b[0;32m~/anaconda3/envs/py39/lib/python3.9/site-packages/pandas/core/generic.py:2417\u001b[0m, in \u001b[0;36mNDFrame.to_excel\u001b[0;34m(self, excel_writer, sheet_name, na_rep, float_format, columns, header, index, index_label, startrow, startcol, engine, merge_cells, inf_rep, freeze_panes, storage_options, engine_kwargs)\u001b[0m\n\u001b[1;32m   2406\u001b[0m formatter \u001b[39m=\u001b[39m ExcelFormatter(\n\u001b[1;32m   2407\u001b[0m     df,\n\u001b[1;32m   2408\u001b[0m     na_rep\u001b[39m=\u001b[39mna_rep,\n\u001b[0;32m   (...)\u001b[0m\n\u001b[1;32m   2415\u001b[0m     inf_rep\u001b[39m=\u001b[39minf_rep,\n\u001b[1;32m   2416\u001b[0m )\n\u001b[0;32m-> 2417\u001b[0m formatter\u001b[39m.\u001b[39;49mwrite(\n\u001b[1;32m   2418\u001b[0m     excel_writer,\n\u001b[1;32m   2419\u001b[0m     sheet_name\u001b[39m=\u001b[39;49msheet_name,\n\u001b[1;32m   2420\u001b[0m     startrow\u001b[39m=\u001b[39;49mstartrow,\n\u001b[1;32m   2421\u001b[0m     startcol\u001b[39m=\u001b[39;49mstartcol,\n\u001b[1;32m   2422\u001b[0m     freeze_panes\u001b[39m=\u001b[39;49mfreeze_panes,\n\u001b[1;32m   2423\u001b[0m     engine\u001b[39m=\u001b[39;49mengine,\n\u001b[1;32m   2424\u001b[0m     storage_options\u001b[39m=\u001b[39;49mstorage_options,\n\u001b[1;32m   2425\u001b[0m     engine_kwargs\u001b[39m=\u001b[39;49mengine_kwargs,\n\u001b[1;32m   2426\u001b[0m )\n",
      "File \u001b[0;32m~/anaconda3/envs/py39/lib/python3.9/site-packages/pandas/io/formats/excel.py:931\u001b[0m, in \u001b[0;36mExcelFormatter.write\u001b[0;34m(self, writer, sheet_name, startrow, startcol, freeze_panes, engine, storage_options, engine_kwargs)\u001b[0m\n\u001b[1;32m    930\u001b[0m \u001b[39mif\u001b[39;00m num_rows \u001b[39m>\u001b[39m \u001b[39mself\u001b[39m\u001b[39m.\u001b[39mmax_rows \u001b[39mor\u001b[39;00m num_cols \u001b[39m>\u001b[39m \u001b[39mself\u001b[39m\u001b[39m.\u001b[39mmax_cols:\n\u001b[0;32m--> 931\u001b[0m     \u001b[39mraise\u001b[39;00m \u001b[39mValueError\u001b[39;00m(\n\u001b[1;32m    932\u001b[0m         \u001b[39mf\u001b[39m\u001b[39m\"\u001b[39m\u001b[39mThis sheet is too large! Your sheet size is: \u001b[39m\u001b[39m{\u001b[39;00mnum_rows\u001b[39m}\u001b[39;00m\u001b[39m, \u001b[39m\u001b[39m{\u001b[39;00mnum_cols\u001b[39m}\u001b[39;00m\u001b[39m \u001b[39m\u001b[39m\"\u001b[39m\n\u001b[1;32m    933\u001b[0m         \u001b[39mf\u001b[39m\u001b[39m\"\u001b[39m\u001b[39mMax sheet size is: \u001b[39m\u001b[39m{\u001b[39;00m\u001b[39mself\u001b[39m\u001b[39m.\u001b[39mmax_rows\u001b[39m}\u001b[39;00m\u001b[39m, \u001b[39m\u001b[39m{\u001b[39;00m\u001b[39mself\u001b[39m\u001b[39m.\u001b[39mmax_cols\u001b[39m}\u001b[39;00m\u001b[39m\"\u001b[39m\n\u001b[1;32m    934\u001b[0m     )\n\u001b[1;32m    936\u001b[0m \u001b[39mif\u001b[39;00m engine_kwargs \u001b[39mis\u001b[39;00m \u001b[39mNone\u001b[39;00m:\n",
      "\u001b[0;31mValueError\u001b[0m: This sheet is too large! Your sheet size is: 6, 28321 Max sheet size is: 1048576, 16384",
      "\nDuring handling of the above exception, another exception occurred:\n",
      "\u001b[0;31mIndexError\u001b[0m                                Traceback (most recent call last)",
      "File \u001b[1;32m/Users/mariapalafox/Desktop/BOLDcaution/WGS/5-annotation/3-interpret/2_summarize_cleaned_vep_output.py:2\u001b[0m\n\u001b[1;32m      1\u001b[0m \u001b[39m# %%\u001b[39;00m\n\u001b[0;32m----> 2\u001b[0m save_crossTabIt(\u001b[39m\"\u001b[39;49m\u001b[39mPolyPhenprediction\u001b[39;49m\u001b[39m\"\u001b[39;49m, \u001b[39m\"\u001b[39;49m\u001b[39mSYMBOL\u001b[39;49m\u001b[39m\"\u001b[39;49m, snps, snpnames, path)\n",
      "File \u001b[1;32m/Users/mariapalafox/Desktop/BOLDcaution/WGS/5-annotation/3-interpret/2_summarize_cleaned_vep_output.py:15\u001b[0m\n\u001b[1;32m     13\u001b[0m         \u001b[39m# function call\u001b[39;00m\n\u001b[1;32m     14\u001b[0m         x1, s1 \u001b[39m=\u001b[39m save_crosstabit_sheet(df, col1, col2, \u001b[39mTrue\u001b[39;00m)\n\u001b[0;32m---> 15\u001b[0m         x1\u001b[39m.\u001b[39mto_excel(writer, sheet_name \u001b[39m=\u001b[39m dfname)\n\u001b[1;32m     16\u001b[0m \u001b[39mprint\u001b[39m(\u001b[39m'\u001b[39m\u001b[39mdone saving multi-sheet excel : \u001b[39m\u001b[39m'\u001b[39m,  output)\n",
      "File \u001b[0;32m~/anaconda3/envs/py39/lib/python3.9/site-packages/pandas/io/excel/_base.py:1353\u001b[0m, in \u001b[0;36mExcelWriter.__exit__\u001b[0;34m(self, exc_type, exc_value, traceback)\u001b[0m\n\u001b[1;32m   1347\u001b[0m \u001b[39mdef\u001b[39;00m \u001b[39m__exit__\u001b[39m(\n\u001b[1;32m   1348\u001b[0m     \u001b[39mself\u001b[39m,\n\u001b[1;32m   1349\u001b[0m     exc_type: \u001b[39mtype\u001b[39m[\u001b[39mBaseException\u001b[39;00m] \u001b[39m|\u001b[39m \u001b[39mNone\u001b[39;00m,\n\u001b[1;32m   1350\u001b[0m     exc_value: \u001b[39mBaseException\u001b[39;00m \u001b[39m|\u001b[39m \u001b[39mNone\u001b[39;00m,\n\u001b[1;32m   1351\u001b[0m     traceback: TracebackType \u001b[39m|\u001b[39m \u001b[39mNone\u001b[39;00m,\n\u001b[1;32m   1352\u001b[0m ) \u001b[39m-\u001b[39m\u001b[39m>\u001b[39m \u001b[39mNone\u001b[39;00m:\n\u001b[0;32m-> 1353\u001b[0m     \u001b[39mself\u001b[39;49m\u001b[39m.\u001b[39;49mclose()\n",
      "File \u001b[0;32m~/anaconda3/envs/py39/lib/python3.9/site-packages/pandas/io/excel/_base.py:1357\u001b[0m, in \u001b[0;36mExcelWriter.close\u001b[0;34m(self)\u001b[0m\n\u001b[1;32m   1355\u001b[0m \u001b[39mdef\u001b[39;00m \u001b[39mclose\u001b[39m(\u001b[39mself\u001b[39m) \u001b[39m-\u001b[39m\u001b[39m>\u001b[39m \u001b[39mNone\u001b[39;00m:\n\u001b[1;32m   1356\u001b[0m \u001b[39m    \u001b[39m\u001b[39m\"\"\"synonym for save, to make it more file-like\"\"\"\u001b[39;00m\n\u001b[0;32m-> 1357\u001b[0m     \u001b[39mself\u001b[39;49m\u001b[39m.\u001b[39;49m_save()\n\u001b[1;32m   1358\u001b[0m     \u001b[39mself\u001b[39m\u001b[39m.\u001b[39m_handles\u001b[39m.\u001b[39mclose()\n",
      "File \u001b[0;32m~/anaconda3/envs/py39/lib/python3.9/site-packages/pandas/io/excel/_openpyxl.py:110\u001b[0m, in \u001b[0;36mOpenpyxlWriter._save\u001b[0;34m(self)\u001b[0m\n\u001b[1;32m    106\u001b[0m \u001b[39mdef\u001b[39;00m \u001b[39m_save\u001b[39m(\u001b[39mself\u001b[39m) \u001b[39m-\u001b[39m\u001b[39m>\u001b[39m \u001b[39mNone\u001b[39;00m:\n\u001b[1;32m    107\u001b[0m \u001b[39m    \u001b[39m\u001b[39m\"\"\"\u001b[39;00m\n\u001b[1;32m    108\u001b[0m \u001b[39m    Save workbook to disk.\u001b[39;00m\n\u001b[1;32m    109\u001b[0m \u001b[39m    \"\"\"\u001b[39;00m\n\u001b[0;32m--> 110\u001b[0m     \u001b[39mself\u001b[39;49m\u001b[39m.\u001b[39;49mbook\u001b[39m.\u001b[39;49msave(\u001b[39mself\u001b[39;49m\u001b[39m.\u001b[39;49m_handles\u001b[39m.\u001b[39;49mhandle)\n\u001b[1;32m    111\u001b[0m     \u001b[39mif\u001b[39;00m \u001b[39m\"\u001b[39m\u001b[39mr+\u001b[39m\u001b[39m\"\u001b[39m \u001b[39min\u001b[39;00m \u001b[39mself\u001b[39m\u001b[39m.\u001b[39m_mode \u001b[39mand\u001b[39;00m \u001b[39mnot\u001b[39;00m \u001b[39misinstance\u001b[39m(\u001b[39mself\u001b[39m\u001b[39m.\u001b[39m_handles\u001b[39m.\u001b[39mhandle, mmap\u001b[39m.\u001b[39mmmap):\n\u001b[1;32m    112\u001b[0m         \u001b[39m# truncate file to the written content\u001b[39;00m\n\u001b[1;32m    113\u001b[0m         \u001b[39mself\u001b[39m\u001b[39m.\u001b[39m_handles\u001b[39m.\u001b[39mhandle\u001b[39m.\u001b[39mtruncate()\n",
      "File \u001b[0;32m~/anaconda3/envs/py39/lib/python3.9/site-packages/openpyxl/workbook/workbook.py:386\u001b[0m, in \u001b[0;36mWorkbook.save\u001b[0;34m(self, filename)\u001b[0m\n\u001b[1;32m    384\u001b[0m \u001b[39mif\u001b[39;00m \u001b[39mself\u001b[39m\u001b[39m.\u001b[39mwrite_only \u001b[39mand\u001b[39;00m \u001b[39mnot\u001b[39;00m \u001b[39mself\u001b[39m\u001b[39m.\u001b[39mworksheets:\n\u001b[1;32m    385\u001b[0m     \u001b[39mself\u001b[39m\u001b[39m.\u001b[39mcreate_sheet()\n\u001b[0;32m--> 386\u001b[0m save_workbook(\u001b[39mself\u001b[39;49m, filename)\n",
      "File \u001b[0;32m~/anaconda3/envs/py39/lib/python3.9/site-packages/openpyxl/writer/excel.py:294\u001b[0m, in \u001b[0;36msave_workbook\u001b[0;34m(workbook, filename)\u001b[0m\n\u001b[1;32m    292\u001b[0m workbook\u001b[39m.\u001b[39mproperties\u001b[39m.\u001b[39mmodified \u001b[39m=\u001b[39m datetime\u001b[39m.\u001b[39mdatetime\u001b[39m.\u001b[39mutcnow()\n\u001b[1;32m    293\u001b[0m writer \u001b[39m=\u001b[39m ExcelWriter(workbook, archive)\n\u001b[0;32m--> 294\u001b[0m writer\u001b[39m.\u001b[39;49msave()\n\u001b[1;32m    295\u001b[0m \u001b[39mreturn\u001b[39;00m \u001b[39mTrue\u001b[39;00m\n",
      "File \u001b[0;32m~/anaconda3/envs/py39/lib/python3.9/site-packages/openpyxl/writer/excel.py:275\u001b[0m, in \u001b[0;36mExcelWriter.save\u001b[0;34m(self)\u001b[0m\n\u001b[1;32m    273\u001b[0m \u001b[39mdef\u001b[39;00m \u001b[39msave\u001b[39m(\u001b[39mself\u001b[39m):\n\u001b[1;32m    274\u001b[0m \u001b[39m    \u001b[39m\u001b[39m\"\"\"Write data into the archive.\"\"\"\u001b[39;00m\n\u001b[0;32m--> 275\u001b[0m     \u001b[39mself\u001b[39;49m\u001b[39m.\u001b[39;49mwrite_data()\n\u001b[1;32m    276\u001b[0m     \u001b[39mself\u001b[39m\u001b[39m.\u001b[39m_archive\u001b[39m.\u001b[39mclose()\n",
      "File \u001b[0;32m~/anaconda3/envs/py39/lib/python3.9/site-packages/openpyxl/writer/excel.py:89\u001b[0m, in \u001b[0;36mExcelWriter.write_data\u001b[0;34m(self)\u001b[0m\n\u001b[1;32m     87\u001b[0m writer \u001b[39m=\u001b[39m WorkbookWriter(\u001b[39mself\u001b[39m\u001b[39m.\u001b[39mworkbook)\n\u001b[1;32m     88\u001b[0m archive\u001b[39m.\u001b[39mwritestr(ARC_ROOT_RELS, writer\u001b[39m.\u001b[39mwrite_root_rels())\n\u001b[0;32m---> 89\u001b[0m archive\u001b[39m.\u001b[39mwritestr(ARC_WORKBOOK, writer\u001b[39m.\u001b[39;49mwrite())\n\u001b[1;32m     90\u001b[0m archive\u001b[39m.\u001b[39mwritestr(ARC_WORKBOOK_RELS, writer\u001b[39m.\u001b[39mwrite_rels())\n\u001b[1;32m     92\u001b[0m \u001b[39mself\u001b[39m\u001b[39m.\u001b[39m_merge_vba()\n",
      "File \u001b[0;32m~/anaconda3/envs/py39/lib/python3.9/site-packages/openpyxl/workbook/_writer.py:150\u001b[0m, in \u001b[0;36mWorkbookWriter.write\u001b[0;34m(self)\u001b[0m\n\u001b[1;32m    148\u001b[0m \u001b[39mself\u001b[39m\u001b[39m.\u001b[39mwrite_names()\n\u001b[1;32m    149\u001b[0m \u001b[39mself\u001b[39m\u001b[39m.\u001b[39mwrite_pivots()\n\u001b[0;32m--> 150\u001b[0m \u001b[39mself\u001b[39;49m\u001b[39m.\u001b[39;49mwrite_views()\n\u001b[1;32m    151\u001b[0m \u001b[39mself\u001b[39m\u001b[39m.\u001b[39mwrite_refs()\n\u001b[1;32m    153\u001b[0m \u001b[39mreturn\u001b[39;00m tostring(\u001b[39mself\u001b[39m\u001b[39m.\u001b[39mpackage\u001b[39m.\u001b[39mto_tree())\n",
      "File \u001b[0;32m~/anaconda3/envs/py39/lib/python3.9/site-packages/openpyxl/workbook/_writer.py:137\u001b[0m, in \u001b[0;36mWorkbookWriter.write_views\u001b[0;34m(self)\u001b[0m\n\u001b[1;32m    136\u001b[0m \u001b[39mdef\u001b[39;00m \u001b[39mwrite_views\u001b[39m(\u001b[39mself\u001b[39m):\n\u001b[0;32m--> 137\u001b[0m     active \u001b[39m=\u001b[39m get_active_sheet(\u001b[39mself\u001b[39;49m\u001b[39m.\u001b[39;49mwb)\n\u001b[1;32m    138\u001b[0m     \u001b[39mif\u001b[39;00m \u001b[39mself\u001b[39m\u001b[39m.\u001b[39mwb\u001b[39m.\u001b[39mviews:\n\u001b[1;32m    139\u001b[0m         \u001b[39mself\u001b[39m\u001b[39m.\u001b[39mwb\u001b[39m.\u001b[39mviews[\u001b[39m0\u001b[39m]\u001b[39m.\u001b[39mactiveTab \u001b[39m=\u001b[39m active\n",
      "File \u001b[0;32m~/anaconda3/envs/py39/lib/python3.9/site-packages/openpyxl/workbook/_writer.py:35\u001b[0m, in \u001b[0;36mget_active_sheet\u001b[0;34m(wb)\u001b[0m\n\u001b[1;32m     33\u001b[0m visible_sheets \u001b[39m=\u001b[39m [idx \u001b[39mfor\u001b[39;00m idx, sheet \u001b[39min\u001b[39;00m \u001b[39menumerate\u001b[39m(wb\u001b[39m.\u001b[39m_sheets) \u001b[39mif\u001b[39;00m sheet\u001b[39m.\u001b[39msheet_state \u001b[39m==\u001b[39m \u001b[39m\"\u001b[39m\u001b[39mvisible\u001b[39m\u001b[39m\"\u001b[39m]\n\u001b[1;32m     34\u001b[0m \u001b[39mif\u001b[39;00m \u001b[39mnot\u001b[39;00m visible_sheets:\n\u001b[0;32m---> 35\u001b[0m     \u001b[39mraise\u001b[39;00m \u001b[39mIndexError\u001b[39;00m(\u001b[39m\"\u001b[39m\u001b[39mAt least one sheet must be visible\u001b[39m\u001b[39m\"\u001b[39m)\n\u001b[1;32m     37\u001b[0m idx \u001b[39m=\u001b[39m wb\u001b[39m.\u001b[39m_active_sheet_index\n\u001b[1;32m     38\u001b[0m sheet \u001b[39m=\u001b[39m wb\u001b[39m.\u001b[39mactive\n",
      "\u001b[0;31mIndexError\u001b[0m: At least one sheet must be visible"
     ]
    }
   ],
   "source": [
    "# %%\n",
    "\n",
    "save_crossTabIt(\"PolyPhenprediction\", \"SYMBOL\", snps, snpnames, path)"
   ]
  },
  {
   "cell_type": "code",
   "execution_count": null,
   "id": "606a3141-e323-492f-b1b5-56fb655521c9",
   "metadata": {},
   "outputs": [
    {
     "name": "stdout",
     "output_type": "stream",
     "text": [
      "snp12\n",
      "snp63\n",
      "done saving multi-sheet excel :  /Users/mariapalafox/Desktop/BOLDcaution/WGS/5-annotation/3-interpret/2-summarize-v4/crossTabIt-SIFTprediction-Feature_type.xlsx\n",
      "snp12\n",
      "snp63\n",
      "done saving multi-sheet excel :  /Users/mariapalafox/Desktop/BOLDcaution/WGS/5-annotation/3-interpret/2-summarize-v4/crossTabIt-PolyPhenprediction-Feature_type.xlsx\n",
      "snp12\n",
      "snp63\n",
      "done saving multi-sheet excel :  /Users/mariapalafox/Desktop/BOLDcaution/WGS/5-annotation/3-interpret/2-summarize-v4/crossTabIt-SIFTprediction-IMPACT.xlsx\n",
      "snp12\n",
      "snp63\n",
      "done saving multi-sheet excel :  /Users/mariapalafox/Desktop/BOLDcaution/WGS/5-annotation/3-interpret/2-summarize-v4/crossTabIt-PolyPhenprediction-IMPACT.xlsx\n",
      "snp12\n",
      "snp63\n",
      "done saving multi-sheet excel :  /Users/mariapalafox/Desktop/BOLDcaution/WGS/5-annotation/3-interpret/2-summarize-v4/crossTabIt-SIFTprediction-CLIN_SIG.xlsx\n",
      "snp12\n",
      "snp63\n",
      "done saving multi-sheet excel :  /Users/mariapalafox/Desktop/BOLDcaution/WGS/5-annotation/3-interpret/2-summarize-v4/crossTabIt-PolyPhenprediction-CLIN_SIG.xlsx\n"
     ]
    }
   ],
   "source": [
    "# %%\n",
    "\n",
    "save_crossTabIt(\"SIFTprediction\", \"Feature_type\", snps, snpnames, path)\n",
    "save_crossTabIt(\"PolyPhenprediction\", \"Feature_type\", snps, snpnames, path)\n",
    "save_crossTabIt(\"SIFTprediction\", \"IMPACT\", snps, snpnames, path)\n",
    "save_crossTabIt(\"PolyPhenprediction\", \"IMPACT\", snps, snpnames, path)\n",
    "save_crossTabIt(\"SIFTprediction\", \"CLIN_SIG\", snps, snpnames, path)\n",
    "save_crossTabIt(\"PolyPhenprediction\", \"CLIN_SIG\", snps, snpnames, path)"
   ]
  }
 ],
 "metadata": {
  "language_info": {
   "codemirror_mode": {
    "name": "ipython",
    "version": 3
   },
   "file_extension": ".py",
   "mimetype": "text/x-python",
   "name": "python",
   "nbconvert_exporter": "python",
   "pygments_lexer": "ipython3",
   "version": 3
  }
 },
 "nbformat": 4,
 "nbformat_minor": 2
}
